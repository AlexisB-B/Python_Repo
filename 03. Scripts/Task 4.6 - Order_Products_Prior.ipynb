{
 "cells": [
  {
   "cell_type": "markdown",
   "id": "02b3feb1",
   "metadata": {},
   "source": [
    "# Task 4.6 - Order_Products_Prior"
   ]
  },
  {
   "cell_type": "markdown",
   "id": "fab1edf0",
   "metadata": {},
   "source": [
    "## Script Points"
   ]
  },
  {
   "cell_type": "markdown",
   "id": "448ce16a",
   "metadata": {},
   "source": [
    "1. Import Data & Libraries\n",
    "2. Merging Data\n",
    "3. Exporting"
   ]
  },
  {
   "cell_type": "markdown",
   "id": "c26cbe77",
   "metadata": {},
   "source": [
    "# Import Libraries & Data"
   ]
  },
  {
   "cell_type": "code",
   "execution_count": 1,
   "id": "2a29873f",
   "metadata": {},
   "outputs": [],
   "source": [
    "# Import Libraries\n",
    "import pandas as pd\n",
    "import numpy as np\n",
    "import os"
   ]
  },
  {
   "cell_type": "code",
   "execution_count": 2,
   "id": "c64aa2e5",
   "metadata": {},
   "outputs": [],
   "source": [
    "# Creating path\n",
    "path = r'C:\\Users\\alexi\\OneDrive\\02-2023 Instacart Basket Analysis'"
   ]
  },
  {
   "cell_type": "code",
   "execution_count": 4,
   "id": "2839068b",
   "metadata": {},
   "outputs": [],
   "source": [
    "# Import df_ords_prior\n",
    "df_ords_prior = pd.read_csv(os.path.join(path, '02. Data','Original Data', 'order_products__prior.csv'), index_col = False)"
   ]
  },
  {
   "cell_type": "code",
   "execution_count": 7,
   "id": "e5c7b626",
   "metadata": {},
   "outputs": [],
   "source": [
    "# Import df_ords\n",
    "df_ords = pd.read_csv(os.path.join(path, '02. Data','Prepared Data', 'orders_checked.csv'), index_col = False)"
   ]
  },
  {
   "cell_type": "code",
   "execution_count": 5,
   "id": "8b415661",
   "metadata": {},
   "outputs": [
    {
     "data": {
      "text/plain": [
       "(32434489, 4)"
      ]
     },
     "execution_count": 5,
     "metadata": {},
     "output_type": "execute_result"
    }
   ],
   "source": [
    "# Check dimensions of data frame\n",
    "df_ords_prior.shape"
   ]
  },
  {
   "cell_type": "code",
   "execution_count": 9,
   "id": "432643e9",
   "metadata": {},
   "outputs": [
    {
     "data": {
      "text/plain": [
       "(3421083, 8)"
      ]
     },
     "execution_count": 9,
     "metadata": {},
     "output_type": "execute_result"
    }
   ],
   "source": [
    "df_ords.shape"
   ]
  },
  {
   "cell_type": "markdown",
   "id": "c647ecf5",
   "metadata": {},
   "source": [
    "# Merging Data"
   ]
  },
  {
   "cell_type": "code",
   "execution_count": 13,
   "id": "f6159f7e",
   "metadata": {},
   "outputs": [],
   "source": [
    "df_merged_large = df_ords.merge(df_ords_prior, on = 'order_id', indicator = True)"
   ]
  },
  {
   "cell_type": "markdown",
   "id": "52efeac3",
   "metadata": {},
   "source": [
    "# Exporting Data"
   ]
  },
  {
   "cell_type": "code",
   "execution_count": 14,
   "id": "c2032db6",
   "metadata": {},
   "outputs": [],
   "source": [
    "# Export data to pkl\n",
    "df_merged_large.to_pickle(os.path.join(path, '02. Data','Prepared Data', 'orders_products_combined.pkl'))"
   ]
  }
 ],
 "metadata": {
  "kernelspec": {
   "display_name": "Python 3 (ipykernel)",
   "language": "python",
   "name": "python3"
  },
  "language_info": {
   "codemirror_mode": {
    "name": "ipython",
    "version": 3
   },
   "file_extension": ".py",
   "mimetype": "text/x-python",
   "name": "python",
   "nbconvert_exporter": "python",
   "pygments_lexer": "ipython3",
   "version": "3.9.13"
  }
 },
 "nbformat": 4,
 "nbformat_minor": 5
}
