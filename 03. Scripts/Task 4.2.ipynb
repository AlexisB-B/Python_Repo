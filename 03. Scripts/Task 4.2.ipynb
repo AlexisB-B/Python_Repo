{
 "cells": [
  {
   "cell_type": "markdown",
   "id": "cf105f78",
   "metadata": {},
   "source": [
    "# 4.2 Importing libraries and Python data types"
   ]
  },
  {
   "cell_type": "markdown",
   "id": "133aeb27",
   "metadata": {},
   "source": [
    "## Script Points"
   ]
  },
  {
   "cell_type": "markdown",
   "id": "ef169948",
   "metadata": {},
   "source": [
    "1. Importing Libraries\n",
    "2. Working with Python Data Types"
   ]
  },
  {
   "cell_type": "markdown",
   "id": "f1b16ea1",
   "metadata": {},
   "source": [
    "# 01. Importing Libraries"
   ]
  },
  {
   "cell_type": "code",
   "execution_count": 1,
   "id": "060768b9",
   "metadata": {},
   "outputs": [],
   "source": [
    "# Import libraries\n",
    "import pandas as pd\n",
    "import numpy as np\n",
    "import os"
   ]
  },
  {
   "cell_type": "markdown",
   "id": "e3fdedba",
   "metadata": {},
   "source": [
    "# 02. Working with Python Data Types"
   ]
  },
  {
   "cell_type": "markdown",
   "id": "4c44d79a",
   "metadata": {},
   "source": [
    "## Code 3 different ways of reaching a result of 100 by adding or subtracting numeric variables."
   ]
  },
  {
   "cell_type": "code",
   "execution_count": 30,
   "id": "0346bc65",
   "metadata": {},
   "outputs": [],
   "source": [
    "a = 50\n",
    "b = 49\n",
    "c = 51"
   ]
  },
  {
   "cell_type": "code",
   "execution_count": 31,
   "id": "e67897fc",
   "metadata": {},
   "outputs": [
    {
     "data": {
      "text/plain": [
       "100"
      ]
     },
     "execution_count": 31,
     "metadata": {},
     "output_type": "execute_result"
    }
   ],
   "source": [
    "a + a"
   ]
  },
  {
   "cell_type": "code",
   "execution_count": 32,
   "id": "cbf161c0",
   "metadata": {},
   "outputs": [
    {
     "data": {
      "text/plain": [
       "100"
      ]
     },
     "execution_count": 32,
     "metadata": {},
     "output_type": "execute_result"
    }
   ],
   "source": [
    "b + c"
   ]
  },
  {
   "cell_type": "code",
   "execution_count": 33,
   "id": "458eaa91",
   "metadata": {},
   "outputs": [
    {
     "data": {
      "text/plain": [
       "100"
      ]
     },
     "execution_count": 33,
     "metadata": {},
     "output_type": "execute_result"
    }
   ],
   "source": [
    "b + b + c + c - a - a"
   ]
  },
  {
   "cell_type": "markdown",
   "id": "c2fcf6fa",
   "metadata": {},
   "source": [
    "## Code 2 floating-point variables and divide them by each other."
   ]
  },
  {
   "cell_type": "code",
   "execution_count": 34,
   "id": "24d2373e",
   "metadata": {},
   "outputs": [],
   "source": [
    "d = 198.72\n",
    "e = 2.43"
   ]
  },
  {
   "cell_type": "code",
   "execution_count": 35,
   "id": "c7f88285",
   "metadata": {},
   "outputs": [
    {
     "data": {
      "text/plain": [
       "81.77777777777777"
      ]
     },
     "execution_count": 35,
     "metadata": {},
     "output_type": "execute_result"
    }
   ],
   "source": [
    "d / e"
   ]
  },
  {
   "cell_type": "markdown",
   "id": "296f3f9a",
   "metadata": {},
   "source": [
    "## Construct a short word made of separate strings."
   ]
  },
  {
   "cell_type": "code",
   "execution_count": 36,
   "id": "de90fa23",
   "metadata": {},
   "outputs": [],
   "source": [
    "f = 'race'\n",
    "g = 'car'"
   ]
  },
  {
   "cell_type": "code",
   "execution_count": 37,
   "id": "5ddef587",
   "metadata": {},
   "outputs": [
    {
     "data": {
      "text/plain": [
       "'racecar'"
      ]
     },
     "execution_count": 37,
     "metadata": {},
     "output_type": "execute_result"
    }
   ],
   "source": [
    "f + g"
   ]
  },
  {
   "cell_type": "markdown",
   "id": "163ed3e1",
   "metadata": {},
   "source": [
    "## Construct 2 short sentences made of separate strings."
   ]
  },
  {
   "cell_type": "code",
   "execution_count": 41,
   "id": "a7715dd2",
   "metadata": {},
   "outputs": [],
   "source": [
    "h = 'The quick brown '\n",
    "i = 'fox jumped '\n",
    "j = 'over the lazy dog'"
   ]
  },
  {
   "cell_type": "code",
   "execution_count": 42,
   "id": "17f2e2ee",
   "metadata": {},
   "outputs": [
    {
     "data": {
      "text/plain": [
       "'The quick brown fox jumped over the lazy dog'"
      ]
     },
     "execution_count": 42,
     "metadata": {},
     "output_type": "execute_result"
    }
   ],
   "source": [
    "h + i + j"
   ]
  },
  {
   "cell_type": "code",
   "execution_count": 43,
   "id": "4fcea143",
   "metadata": {},
   "outputs": [],
   "source": [
    "k = 'The Denver Nuggets '\n",
    "l = 'are first in '\n",
    "m = 'the west!'"
   ]
  },
  {
   "cell_type": "code",
   "execution_count": 44,
   "id": "f1b9f02f",
   "metadata": {},
   "outputs": [
    {
     "data": {
      "text/plain": [
       "'The Denver Nuggets are first in the west!'"
      ]
     },
     "execution_count": 44,
     "metadata": {},
     "output_type": "execute_result"
    }
   ],
   "source": [
    "k + l + m"
   ]
  },
  {
   "cell_type": "code",
   "execution_count": null,
   "id": "7474ac11",
   "metadata": {},
   "outputs": [],
   "source": []
  }
 ],
 "metadata": {
  "kernelspec": {
   "display_name": "Python 3 (ipykernel)",
   "language": "python",
   "name": "python3"
  },
  "language_info": {
   "codemirror_mode": {
    "name": "ipython",
    "version": 3
   },
   "file_extension": ".py",
   "mimetype": "text/x-python",
   "name": "python",
   "nbconvert_exporter": "python",
   "pygments_lexer": "ipython3",
   "version": "3.9.13"
  }
 },
 "nbformat": 4,
 "nbformat_minor": 5
}
