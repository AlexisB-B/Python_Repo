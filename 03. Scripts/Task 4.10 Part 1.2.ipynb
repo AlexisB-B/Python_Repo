{
 "cells": [
  {
   "cell_type": "markdown",
   "id": "f240fb9d",
   "metadata": {},
   "source": [
    "# Task 4.10 Part 1.2"
   ]
  },
  {
   "cell_type": "markdown",
   "id": "2cc9feae",
   "metadata": {},
   "source": [
    "## Script Points"
   ]
  },
  {
   "cell_type": "markdown",
   "id": "7efd9a90",
   "metadata": {},
   "source": [
    "1. Import Data & Libraries\n",
    "2. Customer Profiling\n",
    "3. Visualizations of Customer Profiles\n",
    "4. Aggregation of Customer Profiles\n",
    "5. Comparing Customer Profiles Across Regions and Departments\n",
    "6. Exporting\n"
   ]
  },
  {
   "cell_type": "markdown",
   "id": "28d26de2",
   "metadata": {},
   "source": [
    "# Import data & libraries"
   ]
  },
  {
   "cell_type": "code",
   "execution_count": 2,
   "id": "b0da0ddb",
   "metadata": {},
   "outputs": [],
   "source": [
    "import pandas as pd\n",
    "import numpy as np\n",
    "import os\n",
    "import matplotlib.pyplot as plt\n",
    "import seaborn as sns\n",
    "import scipy"
   ]
  },
  {
   "cell_type": "code",
   "execution_count": 3,
   "id": "95621afd",
   "metadata": {},
   "outputs": [],
   "source": [
    "# Create path\n",
    "\n",
    "path = r'C:\\Users\\alexi\\OneDrive\\02-2023 Instacart Basket Analysis'"
   ]
  },
  {
   "cell_type": "code",
   "execution_count": 4,
   "id": "631fda00",
   "metadata": {},
   "outputs": [],
   "source": [
    "# Import data set\n",
    "df_high_activity = pd.read_pickle(os.path.join(path, '02. Data', 'Prepared Data', 'high_activity_customers.pkl'))\n",
    "df_department = pd.read_csv(os.path.join(path, '02. Data', 'Prepared Data', 'departments_wrangled.csv'))"
   ]
  },
  {
   "cell_type": "code",
   "execution_count": 5,
   "id": "d1210963",
   "metadata": {},
   "outputs": [
    {
     "data": {
      "text/html": [
       "<div>\n",
       "<style scoped>\n",
       "    .dataframe tbody tr th:only-of-type {\n",
       "        vertical-align: middle;\n",
       "    }\n",
       "\n",
       "    .dataframe tbody tr th {\n",
       "        vertical-align: top;\n",
       "    }\n",
       "\n",
       "    .dataframe thead th {\n",
       "        text-align: right;\n",
       "    }\n",
       "</style>\n",
       "<table border=\"1\" class=\"dataframe\">\n",
       "  <thead>\n",
       "    <tr style=\"text-align: right;\">\n",
       "      <th></th>\n",
       "      <th>order_id</th>\n",
       "      <th>user_id</th>\n",
       "      <th>order_number</th>\n",
       "      <th>orders_day_of_week</th>\n",
       "      <th>time_of_order</th>\n",
       "      <th>days_since_prior_order</th>\n",
       "      <th>product_id</th>\n",
       "      <th>add_to_cart_order</th>\n",
       "      <th>reordered</th>\n",
       "      <th>product_name</th>\n",
       "      <th>...</th>\n",
       "      <th>frequency_flag</th>\n",
       "      <th>gender</th>\n",
       "      <th>state</th>\n",
       "      <th>age</th>\n",
       "      <th>date_joined</th>\n",
       "      <th>dependant_count</th>\n",
       "      <th>marital_status</th>\n",
       "      <th>income</th>\n",
       "      <th>region</th>\n",
       "      <th>activity_flag</th>\n",
       "    </tr>\n",
       "  </thead>\n",
       "  <tbody>\n",
       "    <tr>\n",
       "      <th>0</th>\n",
       "      <td>2539329</td>\n",
       "      <td>1</td>\n",
       "      <td>1</td>\n",
       "      <td>2</td>\n",
       "      <td>8</td>\n",
       "      <td>NaN</td>\n",
       "      <td>196</td>\n",
       "      <td>1</td>\n",
       "      <td>0</td>\n",
       "      <td>Soda</td>\n",
       "      <td>...</td>\n",
       "      <td>Non-frequent customer</td>\n",
       "      <td>Female</td>\n",
       "      <td>Alabama</td>\n",
       "      <td>31</td>\n",
       "      <td>2/17/2019</td>\n",
       "      <td>3</td>\n",
       "      <td>married</td>\n",
       "      <td>40423</td>\n",
       "      <td>South</td>\n",
       "      <td>High-activity</td>\n",
       "    </tr>\n",
       "    <tr>\n",
       "      <th>1</th>\n",
       "      <td>2398795</td>\n",
       "      <td>1</td>\n",
       "      <td>2</td>\n",
       "      <td>3</td>\n",
       "      <td>7</td>\n",
       "      <td>15.0</td>\n",
       "      <td>196</td>\n",
       "      <td>1</td>\n",
       "      <td>1</td>\n",
       "      <td>Soda</td>\n",
       "      <td>...</td>\n",
       "      <td>Non-frequent customer</td>\n",
       "      <td>Female</td>\n",
       "      <td>Alabama</td>\n",
       "      <td>31</td>\n",
       "      <td>2/17/2019</td>\n",
       "      <td>3</td>\n",
       "      <td>married</td>\n",
       "      <td>40423</td>\n",
       "      <td>South</td>\n",
       "      <td>High-activity</td>\n",
       "    </tr>\n",
       "    <tr>\n",
       "      <th>2</th>\n",
       "      <td>473747</td>\n",
       "      <td>1</td>\n",
       "      <td>3</td>\n",
       "      <td>3</td>\n",
       "      <td>12</td>\n",
       "      <td>21.0</td>\n",
       "      <td>196</td>\n",
       "      <td>1</td>\n",
       "      <td>1</td>\n",
       "      <td>Soda</td>\n",
       "      <td>...</td>\n",
       "      <td>Non-frequent customer</td>\n",
       "      <td>Female</td>\n",
       "      <td>Alabama</td>\n",
       "      <td>31</td>\n",
       "      <td>2/17/2019</td>\n",
       "      <td>3</td>\n",
       "      <td>married</td>\n",
       "      <td>40423</td>\n",
       "      <td>South</td>\n",
       "      <td>High-activity</td>\n",
       "    </tr>\n",
       "  </tbody>\n",
       "</table>\n",
       "<p>3 rows × 32 columns</p>\n",
       "</div>"
      ],
      "text/plain": [
       "   order_id user_id  order_number  orders_day_of_week  time_of_order  \\\n",
       "0   2539329       1             1                   2              8   \n",
       "1   2398795       1             2                   3              7   \n",
       "2    473747       1             3                   3             12   \n",
       "\n",
       "   days_since_prior_order  product_id  add_to_cart_order  reordered  \\\n",
       "0                     NaN         196                  1          0   \n",
       "1                    15.0         196                  1          1   \n",
       "2                    21.0         196                  1          1   \n",
       "\n",
       "  product_name  ...         frequency_flag  gender    state age date_joined  \\\n",
       "0         Soda  ...  Non-frequent customer  Female  Alabama  31   2/17/2019   \n",
       "1         Soda  ...  Non-frequent customer  Female  Alabama  31   2/17/2019   \n",
       "2         Soda  ...  Non-frequent customer  Female  Alabama  31   2/17/2019   \n",
       "\n",
       "  dependant_count marital_status  income region  activity_flag  \n",
       "0               3        married   40423  South  High-activity  \n",
       "1               3        married   40423  South  High-activity  \n",
       "2               3        married   40423  South  High-activity  \n",
       "\n",
       "[3 rows x 32 columns]"
      ]
     },
     "execution_count": 5,
     "metadata": {},
     "output_type": "execute_result"
    }
   ],
   "source": [
    "df_high_activity.head(3)"
   ]
  },
  {
   "cell_type": "code",
   "execution_count": 6,
   "id": "4d7dbaf9",
   "metadata": {},
   "outputs": [
    {
     "data": {
      "text/html": [
       "<div>\n",
       "<style scoped>\n",
       "    .dataframe tbody tr th:only-of-type {\n",
       "        vertical-align: middle;\n",
       "    }\n",
       "\n",
       "    .dataframe tbody tr th {\n",
       "        vertical-align: top;\n",
       "    }\n",
       "\n",
       "    .dataframe thead th {\n",
       "        text-align: right;\n",
       "    }\n",
       "</style>\n",
       "<table border=\"1\" class=\"dataframe\">\n",
       "  <thead>\n",
       "    <tr style=\"text-align: right;\">\n",
       "      <th></th>\n",
       "      <th>Unnamed: 0</th>\n",
       "      <th>department</th>\n",
       "    </tr>\n",
       "  </thead>\n",
       "  <tbody>\n",
       "    <tr>\n",
       "      <th>0</th>\n",
       "      <td>1</td>\n",
       "      <td>frozen</td>\n",
       "    </tr>\n",
       "    <tr>\n",
       "      <th>1</th>\n",
       "      <td>2</td>\n",
       "      <td>other</td>\n",
       "    </tr>\n",
       "    <tr>\n",
       "      <th>2</th>\n",
       "      <td>3</td>\n",
       "      <td>bakery</td>\n",
       "    </tr>\n",
       "  </tbody>\n",
       "</table>\n",
       "</div>"
      ],
      "text/plain": [
       "   Unnamed: 0 department\n",
       "0           1     frozen\n",
       "1           2      other\n",
       "2           3     bakery"
      ]
     },
     "execution_count": 6,
     "metadata": {},
     "output_type": "execute_result"
    }
   ],
   "source": [
    "df_department.head(3)"
   ]
  },
  {
   "cell_type": "code",
   "execution_count": 7,
   "id": "d24aad16",
   "metadata": {},
   "outputs": [],
   "source": [
    "# Rename unnamed column to department id\n",
    "\n",
    "df_department.rename(columns = {'Unnamed: 0' : 'department_id'}, inplace = True)"
   ]
  },
  {
   "cell_type": "code",
   "execution_count": 8,
   "id": "3f8e0de7",
   "metadata": {},
   "outputs": [
    {
     "data": {
      "text/html": [
       "<div>\n",
       "<style scoped>\n",
       "    .dataframe tbody tr th:only-of-type {\n",
       "        vertical-align: middle;\n",
       "    }\n",
       "\n",
       "    .dataframe tbody tr th {\n",
       "        vertical-align: top;\n",
       "    }\n",
       "\n",
       "    .dataframe thead th {\n",
       "        text-align: right;\n",
       "    }\n",
       "</style>\n",
       "<table border=\"1\" class=\"dataframe\">\n",
       "  <thead>\n",
       "    <tr style=\"text-align: right;\">\n",
       "      <th></th>\n",
       "      <th>department_id</th>\n",
       "      <th>department</th>\n",
       "    </tr>\n",
       "  </thead>\n",
       "  <tbody>\n",
       "    <tr>\n",
       "      <th>0</th>\n",
       "      <td>1</td>\n",
       "      <td>frozen</td>\n",
       "    </tr>\n",
       "    <tr>\n",
       "      <th>1</th>\n",
       "      <td>2</td>\n",
       "      <td>other</td>\n",
       "    </tr>\n",
       "  </tbody>\n",
       "</table>\n",
       "</div>"
      ],
      "text/plain": [
       "   department_id department\n",
       "0              1     frozen\n",
       "1              2      other"
      ]
     },
     "execution_count": 8,
     "metadata": {},
     "output_type": "execute_result"
    }
   ],
   "source": [
    "df_department.head(2)"
   ]
  },
  {
   "cell_type": "markdown",
   "id": "bf3ec279",
   "metadata": {},
   "source": [
    "# Customer Profiling"
   ]
  },
  {
   "cell_type": "markdown",
   "id": "cd091a74",
   "metadata": {},
   "source": [
    "## Age"
   ]
  },
  {
   "cell_type": "code",
   "execution_count": 9,
   "id": "a7d96ae2",
   "metadata": {},
   "outputs": [
    {
     "data": {
      "text/plain": [
       "count    3.096569e+07\n",
       "mean     4.946800e+01\n",
       "std      1.848526e+01\n",
       "min      1.800000e+01\n",
       "25%      3.300000e+01\n",
       "50%      4.900000e+01\n",
       "75%      6.500000e+01\n",
       "max      8.100000e+01\n",
       "Name: age, dtype: float64"
      ]
     },
     "execution_count": 9,
     "metadata": {},
     "output_type": "execute_result"
    }
   ],
   "source": [
    "# Check descriptive stats of age\n",
    "\n",
    "df_high_activity['age'].describe()"
   ]
  },
  {
   "cell_type": "markdown",
   "id": "389afc67",
   "metadata": {},
   "source": [
    "Age groups will be : Young Adult 18-39/\n",
    "                     Middle Aged 40-64/\n",
    "                     Senior 65+"
   ]
  },
  {
   "cell_type": "code",
   "execution_count": 10,
   "id": "335cd4cc",
   "metadata": {},
   "outputs": [],
   "source": [
    "# Create age groups\n",
    "\n",
    "df_high_activity.loc[(df_high_activity['age'] >= 18) & (df_high_activity['age'] < 40), 'age_group'] = 'Young Adult'\n",
    "df_high_activity.loc[(df_high_activity['age'] >= 40) & (df_high_activity['age'] < 65), 'age_group'] = 'Middle-Aged'\n",
    "df_high_activity.loc[df_high_activity['age'] >= 65, 'age_group'] = 'Senior'"
   ]
  },
  {
   "cell_type": "code",
   "execution_count": 11,
   "id": "87c7e9a6",
   "metadata": {},
   "outputs": [
    {
     "data": {
      "text/plain": [
       "Middle-Aged    12104390\n",
       "Young Adult    10665490\n",
       "Senior          8195806\n",
       "Name: age_group, dtype: int64"
      ]
     },
     "execution_count": 11,
     "metadata": {},
     "output_type": "execute_result"
    }
   ],
   "source": [
    "# Check age_group counts\n",
    "\n",
    "df_high_activity['age_group'].value_counts(dropna = False)"
   ]
  },
  {
   "cell_type": "markdown",
   "id": "219ed3e1",
   "metadata": {},
   "source": [
    "## Income"
   ]
  },
  {
   "cell_type": "code",
   "execution_count": 12,
   "id": "72a8eaba",
   "metadata": {},
   "outputs": [
    {
     "data": {
      "text/plain": [
       "count    3.096569e+07\n",
       "mean     9.967573e+04\n",
       "std      4.314168e+04\n",
       "min      2.590300e+04\n",
       "25%      6.729200e+04\n",
       "50%      9.676500e+04\n",
       "75%      1.281020e+05\n",
       "max      5.939010e+05\n",
       "Name: income, dtype: float64"
      ]
     },
     "execution_count": 12,
     "metadata": {},
     "output_type": "execute_result"
    }
   ],
   "source": [
    "# Check descriptive stats income\n",
    "\n",
    "df_high_activity['income'].describe()"
   ]
  },
  {
   "cell_type": "markdown",
   "id": "d6488544",
   "metadata": {},
   "source": [
    "Income groups will be: Low < 75,000/ Middle <= 75,000 - 125,000/ High >= 125,000 (Based off of quartiles)"
   ]
  },
  {
   "cell_type": "code",
   "execution_count": 13,
   "id": "cbfa0f02",
   "metadata": {},
   "outputs": [],
   "source": [
    "# Create the income groups\n",
    "\n",
    "df_high_activity.loc[df_high_activity['income'] < 75000, 'income_group'] = 'Low'\n",
    "df_high_activity.loc[(df_high_activity['income'] >= 75000) & (df_high_activity['income'] < 125000), 'income_group'] = 'Middle'\n",
    "df_high_activity.loc[df_high_activity['income'] >= 125000, 'income_group'] = 'High'"
   ]
  },
  {
   "cell_type": "code",
   "execution_count": 14,
   "id": "1d2a2be5",
   "metadata": {},
   "outputs": [
    {
     "data": {
      "text/plain": [
       "Middle    12780294\n",
       "Low        9907061\n",
       "High       8278331\n",
       "Name: income_group, dtype: int64"
      ]
     },
     "execution_count": 14,
     "metadata": {},
     "output_type": "execute_result"
    }
   ],
   "source": [
    "# Check income group count\n",
    "df_high_activity['income_group'].value_counts(dropna = False)"
   ]
  },
  {
   "cell_type": "markdown",
   "id": "b5e3c2f2",
   "metadata": {},
   "source": [
    "## Number of dependants"
   ]
  },
  {
   "cell_type": "code",
   "execution_count": 15,
   "id": "6e7d86b0",
   "metadata": {},
   "outputs": [
    {
     "data": {
      "text/plain": [
       "count    3.096569e+07\n",
       "mean     1.501815e+00\n",
       "std      1.118897e+00\n",
       "min      0.000000e+00\n",
       "25%      1.000000e+00\n",
       "50%      2.000000e+00\n",
       "75%      3.000000e+00\n",
       "max      3.000000e+00\n",
       "Name: dependant_count, dtype: float64"
      ]
     },
     "execution_count": 15,
     "metadata": {},
     "output_type": "execute_result"
    }
   ],
   "source": [
    "# Check descriptive stats dependants\n",
    "\n",
    "df_high_activity['dependant_count'].describe()"
   ]
  },
  {
   "cell_type": "code",
   "execution_count": 16,
   "id": "011e2726",
   "metadata": {},
   "outputs": [],
   "source": [
    "# Create a crosstab between dependant count and marital status\n",
    "crosstab = pd.crosstab(df_high_activity['marital_status'], df_high_activity['dependant_count'], dropna = False)"
   ]
  },
  {
   "cell_type": "code",
   "execution_count": 17,
   "id": "d1907ab1",
   "metadata": {},
   "outputs": [
    {
     "data": {
      "text/html": [
       "<div>\n",
       "<style scoped>\n",
       "    .dataframe tbody tr th:only-of-type {\n",
       "        vertical-align: middle;\n",
       "    }\n",
       "\n",
       "    .dataframe tbody tr th {\n",
       "        vertical-align: top;\n",
       "    }\n",
       "\n",
       "    .dataframe thead th {\n",
       "        text-align: right;\n",
       "    }\n",
       "</style>\n",
       "<table border=\"1\" class=\"dataframe\">\n",
       "  <thead>\n",
       "    <tr style=\"text-align: right;\">\n",
       "      <th>dependant_count</th>\n",
       "      <th>0</th>\n",
       "      <th>1</th>\n",
       "      <th>2</th>\n",
       "      <th>3</th>\n",
       "    </tr>\n",
       "    <tr>\n",
       "      <th>marital_status</th>\n",
       "      <th></th>\n",
       "      <th></th>\n",
       "      <th></th>\n",
       "      <th></th>\n",
       "    </tr>\n",
       "  </thead>\n",
       "  <tbody>\n",
       "    <tr>\n",
       "      <th>divorced/widowed</th>\n",
       "      <td>2645371</td>\n",
       "      <td>0</td>\n",
       "      <td>0</td>\n",
       "      <td>0</td>\n",
       "    </tr>\n",
       "    <tr>\n",
       "      <th>living with parents and siblings</th>\n",
       "      <td>0</td>\n",
       "      <td>508060</td>\n",
       "      <td>484671</td>\n",
       "      <td>488477</td>\n",
       "    </tr>\n",
       "    <tr>\n",
       "      <th>married</th>\n",
       "      <td>0</td>\n",
       "      <td>7211334</td>\n",
       "      <td>7248829</td>\n",
       "      <td>7284299</td>\n",
       "    </tr>\n",
       "    <tr>\n",
       "      <th>single</th>\n",
       "      <td>5094645</td>\n",
       "      <td>0</td>\n",
       "      <td>0</td>\n",
       "      <td>0</td>\n",
       "    </tr>\n",
       "  </tbody>\n",
       "</table>\n",
       "</div>"
      ],
      "text/plain": [
       "dependant_count                         0        1        2        3\n",
       "marital_status                                                      \n",
       "divorced/widowed                  2645371        0        0        0\n",
       "living with parents and siblings        0   508060   484671   488477\n",
       "married                                 0  7211334  7248829  7284299\n",
       "single                            5094645        0        0        0"
      ]
     },
     "execution_count": 17,
     "metadata": {},
     "output_type": "execute_result"
    }
   ],
   "source": [
    "crosstab"
   ]
  },
  {
   "cell_type": "code",
   "execution_count": 18,
   "id": "4781bd4e",
   "metadata": {},
   "outputs": [],
   "source": [
    "# Create column for household size\n",
    "\n",
    "df_high_activity.loc[df_high_activity['dependant_count'] == 0, 'household_size'] = 'Single Household'\n",
    "df_high_activity.loc[(df_high_activity['dependant_count'] == 1) | (df_high_activity['dependant_count'] == 2), 'household_size'] = 'Medium Household'\n",
    "df_high_activity.loc[df_high_activity['dependant_count'] == 3, 'household_size'] = 'Large Household'"
   ]
  },
  {
   "cell_type": "code",
   "execution_count": 19,
   "id": "8db6c341",
   "metadata": {},
   "outputs": [
    {
     "data": {
      "text/plain": [
       "Medium Household    15452894\n",
       "Large Household      7772776\n",
       "Single Household     7740016\n",
       "Name: household_size, dtype: int64"
      ]
     },
     "execution_count": 19,
     "metadata": {},
     "output_type": "execute_result"
    }
   ],
   "source": [
    "# Check household size count\n",
    "\n",
    "df_high_activity['household_size'].value_counts(dropna = False)"
   ]
  },
  {
   "cell_type": "code",
   "execution_count": 20,
   "id": "237a9000",
   "metadata": {},
   "outputs": [],
   "source": [
    "# Create a crosstab between household size and marital status\n",
    "\n",
    "crosstab_house_size = pd.crosstab(df_high_activity['marital_status'], df_high_activity['household_size'], dropna = False)"
   ]
  },
  {
   "cell_type": "code",
   "execution_count": 21,
   "id": "f0181736",
   "metadata": {},
   "outputs": [
    {
     "data": {
      "text/html": [
       "<div>\n",
       "<style scoped>\n",
       "    .dataframe tbody tr th:only-of-type {\n",
       "        vertical-align: middle;\n",
       "    }\n",
       "\n",
       "    .dataframe tbody tr th {\n",
       "        vertical-align: top;\n",
       "    }\n",
       "\n",
       "    .dataframe thead th {\n",
       "        text-align: right;\n",
       "    }\n",
       "</style>\n",
       "<table border=\"1\" class=\"dataframe\">\n",
       "  <thead>\n",
       "    <tr style=\"text-align: right;\">\n",
       "      <th>household_size</th>\n",
       "      <th>Large Household</th>\n",
       "      <th>Medium Household</th>\n",
       "      <th>Single Household</th>\n",
       "    </tr>\n",
       "    <tr>\n",
       "      <th>marital_status</th>\n",
       "      <th></th>\n",
       "      <th></th>\n",
       "      <th></th>\n",
       "    </tr>\n",
       "  </thead>\n",
       "  <tbody>\n",
       "    <tr>\n",
       "      <th>divorced/widowed</th>\n",
       "      <td>0</td>\n",
       "      <td>0</td>\n",
       "      <td>2645371</td>\n",
       "    </tr>\n",
       "    <tr>\n",
       "      <th>living with parents and siblings</th>\n",
       "      <td>488477</td>\n",
       "      <td>992731</td>\n",
       "      <td>0</td>\n",
       "    </tr>\n",
       "    <tr>\n",
       "      <th>married</th>\n",
       "      <td>7284299</td>\n",
       "      <td>14460163</td>\n",
       "      <td>0</td>\n",
       "    </tr>\n",
       "    <tr>\n",
       "      <th>single</th>\n",
       "      <td>0</td>\n",
       "      <td>0</td>\n",
       "      <td>5094645</td>\n",
       "    </tr>\n",
       "  </tbody>\n",
       "</table>\n",
       "</div>"
      ],
      "text/plain": [
       "household_size                    Large Household  Medium Household  \\\n",
       "marital_status                                                        \n",
       "divorced/widowed                                0                 0   \n",
       "living with parents and siblings           488477            992731   \n",
       "married                                   7284299          14460163   \n",
       "single                                          0                 0   \n",
       "\n",
       "household_size                    Single Household  \n",
       "marital_status                                      \n",
       "divorced/widowed                           2645371  \n",
       "living with parents and siblings                 0  \n",
       "married                                          0  \n",
       "single                                     5094645  "
      ]
     },
     "execution_count": 21,
     "metadata": {},
     "output_type": "execute_result"
    }
   ],
   "source": [
    "crosstab_house_size"
   ]
  },
  {
   "cell_type": "markdown",
   "id": "3f0e984e",
   "metadata": {},
   "source": [
    "## Department"
   ]
  },
  {
   "cell_type": "code",
   "execution_count": 22,
   "id": "b22a8b44",
   "metadata": {},
   "outputs": [],
   "source": [
    "# Create a data dictionary for departments\n",
    "data_dict = dict(zip(df_department[\"department_id\"], df_department[\"department\"]))"
   ]
  },
  {
   "cell_type": "code",
   "execution_count": 23,
   "id": "ea13d8bf",
   "metadata": {},
   "outputs": [
    {
     "data": {
      "text/plain": [
       "{1: 'frozen',\n",
       " 2: 'other',\n",
       " 3: 'bakery',\n",
       " 4: 'produce',\n",
       " 5: 'alcohol',\n",
       " 6: 'international',\n",
       " 7: 'beverages',\n",
       " 8: 'pets',\n",
       " 9: 'dry goods pasta',\n",
       " 10: 'bulk',\n",
       " 11: 'personal care',\n",
       " 12: 'meat seafood',\n",
       " 13: 'pantry',\n",
       " 14: 'breakfast',\n",
       " 15: 'canned goods',\n",
       " 16: 'dairy eggs',\n",
       " 17: 'household',\n",
       " 18: 'babies',\n",
       " 19: 'snacks',\n",
       " 20: 'deli',\n",
       " 21: 'missing'}"
      ]
     },
     "execution_count": 23,
     "metadata": {},
     "output_type": "execute_result"
    }
   ],
   "source": [
    "data_dict"
   ]
  },
  {
   "cell_type": "code",
   "execution_count": 24,
   "id": "21d0e65f",
   "metadata": {},
   "outputs": [],
   "source": [
    "# Create a new column to convert department_id\n",
    "\n",
    "df_high_activity['department'] = df_high_activity['department_id'].map(data_dict)"
   ]
  },
  {
   "cell_type": "code",
   "execution_count": 25,
   "id": "da35d5d5",
   "metadata": {},
   "outputs": [
    {
     "data": {
      "text/plain": [
       "produce            9079273\n",
       "dairy eggs         5177182\n",
       "snacks             2766406\n",
       "beverages          2571901\n",
       "frozen             2121731\n",
       "pantry             1782705\n",
       "bakery             1120828\n",
       "canned goods       1012074\n",
       "deli               1003834\n",
       "dry goods pasta     822136\n",
       "household           699857\n",
       "meat seafood        674781\n",
       "breakfast           671872\n",
       "personal care       424359\n",
       "babies              410392\n",
       "international       255991\n",
       "alcohol             144674\n",
       "pets                 93060\n",
       "missing              64768\n",
       "other                34411\n",
       "bulk                 33451\n",
       "Name: department, dtype: int64"
      ]
     },
     "execution_count": 25,
     "metadata": {},
     "output_type": "execute_result"
    }
   ],
   "source": [
    "# Check department column\n",
    "df_high_activity['department'].value_counts(dropna = False)"
   ]
  },
  {
   "cell_type": "markdown",
   "id": "cad1ec9c",
   "metadata": {},
   "source": [
    "# Visualizations of Customer Profiles"
   ]
  },
  {
   "cell_type": "code",
   "execution_count": 26,
   "id": "41817ec2",
   "metadata": {},
   "outputs": [
    {
     "data": {
      "text/plain": [
       "(array([0, 1, 2]),\n",
       " [Text(0, 0, 'Middle-Aged'), Text(1, 0, 'Young Adult'), Text(2, 0, 'Senior')])"
      ]
     },
     "execution_count": 26,
     "metadata": {},
     "output_type": "execute_result"
    },
    {
     "data": {
      "image/png": "[encoded data removed]",
      "text/plain": [
       "<Figure size 640x480 with 1 Axes>"
      ]
     },
     "metadata": {},
     "output_type": "display_data"
    }
   ],
   "source": [
    "# Create a bar chart for the age_group\n",
    "\n",
    "bar_age_group = df_high_activity['age_group'].value_counts().plot.bar()\n",
    "\n",
    "plt.title('Distribution of Age Groups', fontsize = 18)\n",
    "plt.ylabel('Frequency (in millions)', fontsize = 10)\n",
    "plt.xlabel('Age Group', fontsize = 10)\n",
    "plt.xticks(rotation = 0)"
   ]
  },
  {
   "cell_type": "code",
   "execution_count": 27,
   "id": "171fb1f1",
   "metadata": {},
   "outputs": [
    {
     "data": {
      "text/plain": [
       "(array([0, 1, 2]),\n",
       " [Text(0, 0, 'Middle'), Text(1, 0, 'Low'), Text(2, 0, 'High')])"
      ]
     },
     "execution_count": 27,
     "metadata": {},
     "output_type": "execute_result"
    },
    {
     "data": {
      "image/png": "[encoded data removed]",
      "text/plain": [
       "<Figure size 640x480 with 1 Axes>"
      ]
     },
     "metadata": {},
     "output_type": "display_data"
    }
   ],
   "source": [
    "# Create a bar chart for income_group\n",
    "\n",
    "bar_income_group = df_high_activity['income_group'].value_counts().plot.bar()\n",
    "\n",
    "plt.title('Distribution of Income Groups', fontsize = 18)\n",
    "plt.ylabel('Frequency (in millions)', fontsize = 10)\n",
    "plt.xlabel('Income Group', fontsize = 10)\n",
    "plt.xticks(rotation = 0)"
   ]
  },
  {
   "cell_type": "code",
   "execution_count": 28,
   "id": "ba02daf0",
   "metadata": {},
   "outputs": [
    {
     "data": {
      "text/plain": [
       "(array([0, 1, 2]),\n",
       " [Text(0, 0, 'Medium Household'),\n",
       "  Text(1, 0, 'Large Household'),\n",
       "  Text(2, 0, 'Single Household')])"
      ]
     },
     "execution_count": 28,
     "metadata": {},
     "output_type": "execute_result"
    },
    {
     "data": {
      "image/png": "[encoded data removed]",
      "text/plain": [
       "<Figure size 640x480 with 1 Axes>"
      ]
     },
     "metadata": {},
     "output_type": "display_data"
    }
   ],
   "source": [
    "# Create a bar chart for family_size\n",
    "\n",
    "bar_household_size = df_high_activity['household_size'].value_counts().plot.bar()\n",
    "\n",
    "plt.title('Distribution of Household Size', fontsize = 18)\n",
    "plt.ylabel('Frequency (in millions)', fontsize = 12)\n",
    "plt.xlabel('Household Size', fontsize = 12)\n",
    "plt.xticks(rotation = 0)"
   ]
  },
  {
   "cell_type": "code",
   "execution_count": 29,
   "id": "e83b74b7",
   "metadata": {},
   "outputs": [
    {
     "data": {
      "text/plain": [
       "Text(0.5, 0, 'Department')"
      ]
     },
     "execution_count": 29,
     "metadata": {},
     "output_type": "execute_result"
    },
    {
     "data": {
      "image/png": "[encoded data removed]",
      "text/plain": [
       "<Figure size 640x480 with 1 Axes>"
      ]
     },
     "metadata": {},
     "output_type": "display_data"
    }
   ],
   "source": [
    "# Create a bar chart for distribution of departments\n",
    "\n",
    "bar_departments = df_high_activity['department'].value_counts().plot.bar()\n",
    "\n",
    "plt.title('Distribution of Department Products Sold', fontsize = 18)\n",
    "plt.ylabel('Frequency (in millions)', fontsize = 10)\n",
    "plt.xlabel('Department', fontsize = 10)"
   ]
  },
  {
   "cell_type": "markdown",
   "id": "7efc21c5",
   "metadata": {},
   "source": [
    "# Aggregation of Customer Profiles"
   ]
  },
  {
   "cell_type": "code",
   "execution_count": 30,
   "id": "d110ab0e",
   "metadata": {},
   "outputs": [
    {
     "data": {
      "text/html": [
       "<div>\n",
       "<style scoped>\n",
       "    .dataframe tbody tr th:only-of-type {\n",
       "        vertical-align: middle;\n",
       "    }\n",
       "\n",
       "    .dataframe tbody tr th {\n",
       "        vertical-align: top;\n",
       "    }\n",
       "\n",
       "    .dataframe thead tr th {\n",
       "        text-align: left;\n",
       "    }\n",
       "\n",
       "    .dataframe thead tr:last-of-type th {\n",
       "        text-align: right;\n",
       "    }\n",
       "</style>\n",
       "<table border=\"1\" class=\"dataframe\">\n",
       "  <thead>\n",
       "    <tr>\n",
       "      <th></th>\n",
       "      <th colspan=\"3\" halign=\"left\">add_to_cart_order</th>\n",
       "    </tr>\n",
       "    <tr>\n",
       "      <th></th>\n",
       "      <th>mean</th>\n",
       "      <th>min</th>\n",
       "      <th>max</th>\n",
       "    </tr>\n",
       "    <tr>\n",
       "      <th>age_group</th>\n",
       "      <th></th>\n",
       "      <th></th>\n",
       "      <th></th>\n",
       "    </tr>\n",
       "  </thead>\n",
       "  <tbody>\n",
       "    <tr>\n",
       "      <th>Middle-Aged</th>\n",
       "      <td>8.354274</td>\n",
       "      <td>1</td>\n",
       "      <td>145</td>\n",
       "    </tr>\n",
       "    <tr>\n",
       "      <th>Senior</th>\n",
       "      <td>8.307827</td>\n",
       "      <td>1</td>\n",
       "      <td>99</td>\n",
       "    </tr>\n",
       "    <tr>\n",
       "      <th>Young Adult</th>\n",
       "      <td>8.415600</td>\n",
       "      <td>1</td>\n",
       "      <td>109</td>\n",
       "    </tr>\n",
       "  </tbody>\n",
       "</table>\n",
       "</div>"
      ],
      "text/plain": [
       "            add_to_cart_order         \n",
       "                         mean min  max\n",
       "age_group                             \n",
       "Middle-Aged          8.354274   1  145\n",
       "Senior               8.307827   1   99\n",
       "Young Adult          8.415600   1  109"
      ]
     },
     "execution_count": 30,
     "metadata": {},
     "output_type": "execute_result"
    }
   ],
   "source": [
    "# Age_group aggregation by usage frequency\n",
    "\n",
    "df_high_activity.groupby('age_group').agg({'add_to_cart_order' : ['mean', 'min', 'max']})"
   ]
  },
  {
   "cell_type": "code",
   "execution_count": 31,
   "id": "c15ce361",
   "metadata": {},
   "outputs": [
    {
     "data": {
      "text/html": [
       "<div>\n",
       "<style scoped>\n",
       "    .dataframe tbody tr th:only-of-type {\n",
       "        vertical-align: middle;\n",
       "    }\n",
       "\n",
       "    .dataframe tbody tr th {\n",
       "        vertical-align: top;\n",
       "    }\n",
       "\n",
       "    .dataframe thead tr th {\n",
       "        text-align: left;\n",
       "    }\n",
       "\n",
       "    .dataframe thead tr:last-of-type th {\n",
       "        text-align: right;\n",
       "    }\n",
       "</style>\n",
       "<table border=\"1\" class=\"dataframe\">\n",
       "  <thead>\n",
       "    <tr>\n",
       "      <th></th>\n",
       "      <th colspan=\"3\" halign=\"left\">prices</th>\n",
       "    </tr>\n",
       "    <tr>\n",
       "      <th></th>\n",
       "      <th>mean</th>\n",
       "      <th>min</th>\n",
       "      <th>max</th>\n",
       "    </tr>\n",
       "    <tr>\n",
       "      <th>age_group</th>\n",
       "      <th></th>\n",
       "      <th></th>\n",
       "      <th></th>\n",
       "    </tr>\n",
       "  </thead>\n",
       "  <tbody>\n",
       "    <tr>\n",
       "      <th>Middle-Aged</th>\n",
       "      <td>11.944695</td>\n",
       "      <td>1.0</td>\n",
       "      <td>99999.0</td>\n",
       "    </tr>\n",
       "    <tr>\n",
       "      <th>Senior</th>\n",
       "      <td>11.757620</td>\n",
       "      <td>1.0</td>\n",
       "      <td>99999.0</td>\n",
       "    </tr>\n",
       "    <tr>\n",
       "      <th>Young Adult</th>\n",
       "      <td>12.055481</td>\n",
       "      <td>1.0</td>\n",
       "      <td>99999.0</td>\n",
       "    </tr>\n",
       "  </tbody>\n",
       "</table>\n",
       "</div>"
      ],
      "text/plain": [
       "                prices              \n",
       "                  mean  min      max\n",
       "age_group                           \n",
       "Middle-Aged  11.944695  1.0  99999.0\n",
       "Senior       11.757620  1.0  99999.0\n",
       "Young Adult  12.055481  1.0  99999.0"
      ]
     },
     "execution_count": 31,
     "metadata": {},
     "output_type": "execute_result"
    }
   ],
   "source": [
    "# by expenditure\n",
    "\n",
    "df_high_activity.groupby('age_group').agg({'prices' : ['mean', 'min', 'max']})"
   ]
  },
  {
   "cell_type": "code",
   "execution_count": 32,
   "id": "eab02d00",
   "metadata": {},
   "outputs": [
    {
     "data": {
      "text/html": [
       "<div>\n",
       "<style scoped>\n",
       "    .dataframe tbody tr th:only-of-type {\n",
       "        vertical-align: middle;\n",
       "    }\n",
       "\n",
       "    .dataframe tbody tr th {\n",
       "        vertical-align: top;\n",
       "    }\n",
       "\n",
       "    .dataframe thead tr th {\n",
       "        text-align: left;\n",
       "    }\n",
       "\n",
       "    .dataframe thead tr:last-of-type th {\n",
       "        text-align: right;\n",
       "    }\n",
       "</style>\n",
       "<table border=\"1\" class=\"dataframe\">\n",
       "  <thead>\n",
       "    <tr>\n",
       "      <th></th>\n",
       "      <th colspan=\"3\" halign=\"left\">add_to_cart_order</th>\n",
       "    </tr>\n",
       "    <tr>\n",
       "      <th></th>\n",
       "      <th>mean</th>\n",
       "      <th>min</th>\n",
       "      <th>max</th>\n",
       "    </tr>\n",
       "    <tr>\n",
       "      <th>income_group</th>\n",
       "      <th></th>\n",
       "      <th></th>\n",
       "      <th></th>\n",
       "    </tr>\n",
       "  </thead>\n",
       "  <tbody>\n",
       "    <tr>\n",
       "      <th>High</th>\n",
       "      <td>8.494156</td>\n",
       "      <td>1</td>\n",
       "      <td>121</td>\n",
       "    </tr>\n",
       "    <tr>\n",
       "      <th>Low</th>\n",
       "      <td>8.049147</td>\n",
       "      <td>1</td>\n",
       "      <td>137</td>\n",
       "    </tr>\n",
       "    <tr>\n",
       "      <th>Middle</th>\n",
       "      <td>8.521588</td>\n",
       "      <td>1</td>\n",
       "      <td>145</td>\n",
       "    </tr>\n",
       "  </tbody>\n",
       "</table>\n",
       "</div>"
      ],
      "text/plain": [
       "             add_to_cart_order         \n",
       "                          mean min  max\n",
       "income_group                           \n",
       "High                  8.494156   1  121\n",
       "Low                   8.049147   1  137\n",
       "Middle                8.521588   1  145"
      ]
     },
     "execution_count": 32,
     "metadata": {},
     "output_type": "execute_result"
    }
   ],
   "source": [
    "# Income_group aggregation by usage frequency\n",
    "\n",
    "df_high_activity.groupby('income_group').agg({'add_to_cart_order' : ['mean', 'min', 'max']})"
   ]
  },
  {
   "cell_type": "code",
   "execution_count": 33,
   "id": "ddd926cf",
   "metadata": {},
   "outputs": [
    {
     "data": {
      "text/html": [
       "<div>\n",
       "<style scoped>\n",
       "    .dataframe tbody tr th:only-of-type {\n",
       "        vertical-align: middle;\n",
       "    }\n",
       "\n",
       "    .dataframe tbody tr th {\n",
       "        vertical-align: top;\n",
       "    }\n",
       "\n",
       "    .dataframe thead tr th {\n",
       "        text-align: left;\n",
       "    }\n",
       "\n",
       "    .dataframe thead tr:last-of-type th {\n",
       "        text-align: right;\n",
       "    }\n",
       "</style>\n",
       "<table border=\"1\" class=\"dataframe\">\n",
       "  <thead>\n",
       "    <tr>\n",
       "      <th></th>\n",
       "      <th colspan=\"3\" halign=\"left\">prices</th>\n",
       "    </tr>\n",
       "    <tr>\n",
       "      <th></th>\n",
       "      <th>mean</th>\n",
       "      <th>min</th>\n",
       "      <th>max</th>\n",
       "    </tr>\n",
       "    <tr>\n",
       "      <th>income_group</th>\n",
       "      <th></th>\n",
       "      <th></th>\n",
       "      <th></th>\n",
       "    </tr>\n",
       "  </thead>\n",
       "  <tbody>\n",
       "    <tr>\n",
       "      <th>High</th>\n",
       "      <td>21.193370</td>\n",
       "      <td>1.0</td>\n",
       "      <td>99999.0</td>\n",
       "    </tr>\n",
       "    <tr>\n",
       "      <th>Low</th>\n",
       "      <td>7.451164</td>\n",
       "      <td>1.0</td>\n",
       "      <td>14900.0</td>\n",
       "    </tr>\n",
       "    <tr>\n",
       "      <th>Middle</th>\n",
       "      <td>9.409735</td>\n",
       "      <td>1.0</td>\n",
       "      <td>99999.0</td>\n",
       "    </tr>\n",
       "  </tbody>\n",
       "</table>\n",
       "</div>"
      ],
      "text/plain": [
       "                 prices              \n",
       "                   mean  min      max\n",
       "income_group                         \n",
       "High          21.193370  1.0  99999.0\n",
       "Low            7.451164  1.0  14900.0\n",
       "Middle         9.409735  1.0  99999.0"
      ]
     },
     "execution_count": 33,
     "metadata": {},
     "output_type": "execute_result"
    }
   ],
   "source": [
    "# by expenditure\n",
    "\n",
    "df_high_activity.groupby('income_group').agg({'prices' : ['mean', 'min', 'max']})"
   ]
  },
  {
   "cell_type": "code",
   "execution_count": 34,
   "id": "b3674508",
   "metadata": {},
   "outputs": [
    {
     "data": {
      "text/html": [
       "<div>\n",
       "<style scoped>\n",
       "    .dataframe tbody tr th:only-of-type {\n",
       "        vertical-align: middle;\n",
       "    }\n",
       "\n",
       "    .dataframe tbody tr th {\n",
       "        vertical-align: top;\n",
       "    }\n",
       "\n",
       "    .dataframe thead tr th {\n",
       "        text-align: left;\n",
       "    }\n",
       "\n",
       "    .dataframe thead tr:last-of-type th {\n",
       "        text-align: right;\n",
       "    }\n",
       "</style>\n",
       "<table border=\"1\" class=\"dataframe\">\n",
       "  <thead>\n",
       "    <tr>\n",
       "      <th></th>\n",
       "      <th colspan=\"3\" halign=\"left\">add_to_cart_order</th>\n",
       "    </tr>\n",
       "    <tr>\n",
       "      <th></th>\n",
       "      <th>mean</th>\n",
       "      <th>min</th>\n",
       "      <th>max</th>\n",
       "    </tr>\n",
       "    <tr>\n",
       "      <th>household_size</th>\n",
       "      <th></th>\n",
       "      <th></th>\n",
       "      <th></th>\n",
       "    </tr>\n",
       "  </thead>\n",
       "  <tbody>\n",
       "    <tr>\n",
       "      <th>Large Household</th>\n",
       "      <td>8.375119</td>\n",
       "      <td>1</td>\n",
       "      <td>145</td>\n",
       "    </tr>\n",
       "    <tr>\n",
       "      <th>Medium Household</th>\n",
       "      <td>8.370308</td>\n",
       "      <td>1</td>\n",
       "      <td>114</td>\n",
       "    </tr>\n",
       "    <tr>\n",
       "      <th>Single Household</th>\n",
       "      <td>8.336653</td>\n",
       "      <td>1</td>\n",
       "      <td>137</td>\n",
       "    </tr>\n",
       "  </tbody>\n",
       "</table>\n",
       "</div>"
      ],
      "text/plain": [
       "                 add_to_cart_order         \n",
       "                              mean min  max\n",
       "household_size                             \n",
       "Large Household           8.375119   1  145\n",
       "Medium Household          8.370308   1  114\n",
       "Single Household          8.336653   1  137"
      ]
     },
     "execution_count": 34,
     "metadata": {},
     "output_type": "execute_result"
    }
   ],
   "source": [
    "# Family_size aggregation by usage frequency\n",
    "\n",
    "df_high_activity.groupby('household_size').agg({'add_to_cart_order' : ['mean', 'min', 'max']})"
   ]
  },
  {
   "cell_type": "code",
   "execution_count": 35,
   "id": "9a358a52",
   "metadata": {},
   "outputs": [
    {
     "data": {
      "text/html": [
       "<div>\n",
       "<style scoped>\n",
       "    .dataframe tbody tr th:only-of-type {\n",
       "        vertical-align: middle;\n",
       "    }\n",
       "\n",
       "    .dataframe tbody tr th {\n",
       "        vertical-align: top;\n",
       "    }\n",
       "\n",
       "    .dataframe thead tr th {\n",
       "        text-align: left;\n",
       "    }\n",
       "\n",
       "    .dataframe thead tr:last-of-type th {\n",
       "        text-align: right;\n",
       "    }\n",
       "</style>\n",
       "<table border=\"1\" class=\"dataframe\">\n",
       "  <thead>\n",
       "    <tr>\n",
       "      <th></th>\n",
       "      <th colspan=\"3\" halign=\"left\">prices</th>\n",
       "    </tr>\n",
       "    <tr>\n",
       "      <th></th>\n",
       "      <th>mean</th>\n",
       "      <th>min</th>\n",
       "      <th>max</th>\n",
       "    </tr>\n",
       "    <tr>\n",
       "      <th>household_size</th>\n",
       "      <th></th>\n",
       "      <th></th>\n",
       "      <th></th>\n",
       "    </tr>\n",
       "  </thead>\n",
       "  <tbody>\n",
       "    <tr>\n",
       "      <th>Large Household</th>\n",
       "      <td>11.791445</td>\n",
       "      <td>1.0</td>\n",
       "      <td>99999.0</td>\n",
       "    </tr>\n",
       "    <tr>\n",
       "      <th>Medium Household</th>\n",
       "      <td>11.920012</td>\n",
       "      <td>1.0</td>\n",
       "      <td>99999.0</td>\n",
       "    </tr>\n",
       "    <tr>\n",
       "      <th>Single Household</th>\n",
       "      <td>12.102442</td>\n",
       "      <td>1.0</td>\n",
       "      <td>99999.0</td>\n",
       "    </tr>\n",
       "  </tbody>\n",
       "</table>\n",
       "</div>"
      ],
      "text/plain": [
       "                     prices              \n",
       "                       mean  min      max\n",
       "household_size                           \n",
       "Large Household   11.791445  1.0  99999.0\n",
       "Medium Household  11.920012  1.0  99999.0\n",
       "Single Household  12.102442  1.0  99999.0"
      ]
     },
     "execution_count": 35,
     "metadata": {},
     "output_type": "execute_result"
    }
   ],
   "source": [
    "# by expenditure\n",
    "\n",
    "df_high_activity.groupby('household_size').agg({'prices' : ['mean', 'min', 'max']})"
   ]
  },
  {
   "cell_type": "markdown",
   "id": "ad5b474a",
   "metadata": {},
   "source": [
    "# Comparing Customer Profiles Across Regions and Departments"
   ]
  },
  {
   "cell_type": "code",
   "execution_count": 36,
   "id": "ad433195",
   "metadata": {},
   "outputs": [
    {
     "data": {
      "text/html": [
       "<div>\n",
       "<style scoped>\n",
       "    .dataframe tbody tr th:only-of-type {\n",
       "        vertical-align: middle;\n",
       "    }\n",
       "\n",
       "    .dataframe tbody tr th {\n",
       "        vertical-align: top;\n",
       "    }\n",
       "\n",
       "    .dataframe thead th {\n",
       "        text-align: right;\n",
       "    }\n",
       "</style>\n",
       "<table border=\"1\" class=\"dataframe\">\n",
       "  <thead>\n",
       "    <tr style=\"text-align: right;\">\n",
       "      <th>age_group</th>\n",
       "      <th>Middle-Aged</th>\n",
       "      <th>Senior</th>\n",
       "      <th>Young Adult</th>\n",
       "    </tr>\n",
       "    <tr>\n",
       "      <th>region</th>\n",
       "      <th></th>\n",
       "      <th></th>\n",
       "      <th></th>\n",
       "    </tr>\n",
       "  </thead>\n",
       "  <tbody>\n",
       "    <tr>\n",
       "      <th>Midwest</th>\n",
       "      <td>2874559</td>\n",
       "      <td>1904119</td>\n",
       "      <td>2483085</td>\n",
       "    </tr>\n",
       "    <tr>\n",
       "      <th>Northeast</th>\n",
       "      <td>2108230</td>\n",
       "      <td>1484857</td>\n",
       "      <td>1871792</td>\n",
       "    </tr>\n",
       "    <tr>\n",
       "      <th>South</th>\n",
       "      <td>3994605</td>\n",
       "      <td>2708539</td>\n",
       "      <td>3608387</td>\n",
       "    </tr>\n",
       "    <tr>\n",
       "      <th>West</th>\n",
       "      <td>3126996</td>\n",
       "      <td>2098291</td>\n",
       "      <td>2702226</td>\n",
       "    </tr>\n",
       "  </tbody>\n",
       "</table>\n",
       "</div>"
      ],
      "text/plain": [
       "age_group  Middle-Aged   Senior  Young Adult\n",
       "region                                      \n",
       "Midwest        2874559  1904119      2483085\n",
       "Northeast      2108230  1484857      1871792\n",
       "South          3994605  2708539      3608387\n",
       "West           3126996  2098291      2702226"
      ]
     },
     "execution_count": 36,
     "metadata": {},
     "output_type": "execute_result"
    }
   ],
   "source": [
    "# Compare age_group across regions\n",
    "\n",
    "age_region_crosstab = pd.crosstab(df_high_activity['region'], df_high_activity['age_group'], dropna = False)\n",
    "age_region_crosstab"
   ]
  },
  {
   "cell_type": "code",
   "execution_count": 37,
   "id": "558f2d2b",
   "metadata": {},
   "outputs": [
    {
     "data": {
      "text/plain": [
       "Text(0.5, 0, 'Regions')"
      ]
     },
     "execution_count": 37,
     "metadata": {},
     "output_type": "execute_result"
    },
    {
     "data": {
      "image/png": "[encoded data removed]",
      "text/plain": [
       "<Figure size 640x480 with 1 Axes>"
      ]
     },
     "metadata": {},
     "output_type": "display_data"
    }
   ],
   "source": [
    "# Create a stacked bar chart for age_group and region\n",
    "\n",
    "bar_age_region = age_region_crosstab.plot(kind = 'bar', rot = 0, color = ['blue', 'orange', 'lime'])\n",
    "bar_age_region.legend(title = 'Age Group', bbox_to_anchor = (1, 1.02), loc = 'upper left')\n",
    "plt.title('Age Groups Across Regions', fontsize = 20)\n",
    "plt.ylabel('Frequency (in millions)')\n",
    "plt.xlabel('Regions')"
   ]
  },
  {
   "cell_type": "code",
   "execution_count": 38,
   "id": "79da4ed0",
   "metadata": {},
   "outputs": [
    {
     "data": {
      "text/html": [
       "<div>\n",
       "<style scoped>\n",
       "    .dataframe tbody tr th:only-of-type {\n",
       "        vertical-align: middle;\n",
       "    }\n",
       "\n",
       "    .dataframe tbody tr th {\n",
       "        vertical-align: top;\n",
       "    }\n",
       "\n",
       "    .dataframe thead th {\n",
       "        text-align: right;\n",
       "    }\n",
       "</style>\n",
       "<table border=\"1\" class=\"dataframe\">\n",
       "  <thead>\n",
       "    <tr style=\"text-align: right;\">\n",
       "      <th>age_group</th>\n",
       "      <th>Middle-Aged</th>\n",
       "      <th>Senior</th>\n",
       "      <th>Young Adult</th>\n",
       "    </tr>\n",
       "    <tr>\n",
       "      <th>department</th>\n",
       "      <th></th>\n",
       "      <th></th>\n",
       "      <th></th>\n",
       "    </tr>\n",
       "  </thead>\n",
       "  <tbody>\n",
       "    <tr>\n",
       "      <th>alcohol</th>\n",
       "      <td>56292</td>\n",
       "      <td>36720</td>\n",
       "      <td>51662</td>\n",
       "    </tr>\n",
       "    <tr>\n",
       "      <th>babies</th>\n",
       "      <td>162732</td>\n",
       "      <td>106204</td>\n",
       "      <td>141456</td>\n",
       "    </tr>\n",
       "    <tr>\n",
       "      <th>bakery</th>\n",
       "      <td>438829</td>\n",
       "      <td>295997</td>\n",
       "      <td>386002</td>\n",
       "    </tr>\n",
       "    <tr>\n",
       "      <th>beverages</th>\n",
       "      <td>1013708</td>\n",
       "      <td>684020</td>\n",
       "      <td>874173</td>\n",
       "    </tr>\n",
       "    <tr>\n",
       "      <th>breakfast</th>\n",
       "      <td>264061</td>\n",
       "      <td>175518</td>\n",
       "      <td>232293</td>\n",
       "    </tr>\n",
       "    <tr>\n",
       "      <th>bulk</th>\n",
       "      <td>12882</td>\n",
       "      <td>8945</td>\n",
       "      <td>11624</td>\n",
       "    </tr>\n",
       "    <tr>\n",
       "      <th>canned goods</th>\n",
       "      <td>394849</td>\n",
       "      <td>267509</td>\n",
       "      <td>349716</td>\n",
       "    </tr>\n",
       "    <tr>\n",
       "      <th>dairy eggs</th>\n",
       "      <td>2015807</td>\n",
       "      <td>1368072</td>\n",
       "      <td>1793303</td>\n",
       "    </tr>\n",
       "    <tr>\n",
       "      <th>deli</th>\n",
       "      <td>392790</td>\n",
       "      <td>265199</td>\n",
       "      <td>345845</td>\n",
       "    </tr>\n",
       "    <tr>\n",
       "      <th>dry goods pasta</th>\n",
       "      <td>321321</td>\n",
       "      <td>217316</td>\n",
       "      <td>283499</td>\n",
       "    </tr>\n",
       "    <tr>\n",
       "      <th>frozen</th>\n",
       "      <td>830678</td>\n",
       "      <td>564250</td>\n",
       "      <td>726803</td>\n",
       "    </tr>\n",
       "    <tr>\n",
       "      <th>household</th>\n",
       "      <td>274122</td>\n",
       "      <td>186630</td>\n",
       "      <td>239105</td>\n",
       "    </tr>\n",
       "    <tr>\n",
       "      <th>international</th>\n",
       "      <td>99946</td>\n",
       "      <td>67199</td>\n",
       "      <td>88846</td>\n",
       "    </tr>\n",
       "    <tr>\n",
       "      <th>meat seafood</th>\n",
       "      <td>263132</td>\n",
       "      <td>181150</td>\n",
       "      <td>230499</td>\n",
       "    </tr>\n",
       "    <tr>\n",
       "      <th>missing</th>\n",
       "      <td>25354</td>\n",
       "      <td>16915</td>\n",
       "      <td>22499</td>\n",
       "    </tr>\n",
       "    <tr>\n",
       "      <th>other</th>\n",
       "      <td>13347</td>\n",
       "      <td>8946</td>\n",
       "      <td>12118</td>\n",
       "    </tr>\n",
       "    <tr>\n",
       "      <th>pantry</th>\n",
       "      <td>698160</td>\n",
       "      <td>472383</td>\n",
       "      <td>612162</td>\n",
       "    </tr>\n",
       "    <tr>\n",
       "      <th>personal care</th>\n",
       "      <td>168467</td>\n",
       "      <td>111065</td>\n",
       "      <td>144827</td>\n",
       "    </tr>\n",
       "    <tr>\n",
       "      <th>pets</th>\n",
       "      <td>36027</td>\n",
       "      <td>25115</td>\n",
       "      <td>31918</td>\n",
       "    </tr>\n",
       "    <tr>\n",
       "      <th>produce</th>\n",
       "      <td>3542316</td>\n",
       "      <td>2408104</td>\n",
       "      <td>3128853</td>\n",
       "    </tr>\n",
       "    <tr>\n",
       "      <th>snacks</th>\n",
       "      <td>1079570</td>\n",
       "      <td>728549</td>\n",
       "      <td>958287</td>\n",
       "    </tr>\n",
       "  </tbody>\n",
       "</table>\n",
       "</div>"
      ],
      "text/plain": [
       "age_group        Middle-Aged   Senior  Young Adult\n",
       "department                                        \n",
       "alcohol                56292    36720        51662\n",
       "babies                162732   106204       141456\n",
       "bakery                438829   295997       386002\n",
       "beverages            1013708   684020       874173\n",
       "breakfast             264061   175518       232293\n",
       "bulk                   12882     8945        11624\n",
       "canned goods          394849   267509       349716\n",
       "dairy eggs           2015807  1368072      1793303\n",
       "deli                  392790   265199       345845\n",
       "dry goods pasta       321321   217316       283499\n",
       "frozen                830678   564250       726803\n",
       "household             274122   186630       239105\n",
       "international          99946    67199        88846\n",
       "meat seafood          263132   181150       230499\n",
       "missing                25354    16915        22499\n",
       "other                  13347     8946        12118\n",
       "pantry                698160   472383       612162\n",
       "personal care         168467   111065       144827\n",
       "pets                   36027    25115        31918\n",
       "produce              3542316  2408104      3128853\n",
       "snacks               1079570   728549       958287"
      ]
     },
     "execution_count": 38,
     "metadata": {},
     "output_type": "execute_result"
    }
   ],
   "source": [
    "# Compare age groups across departments\n",
    "\n",
    "age_department_crosstab = pd.crosstab(df_high_activity['department'], df_high_activity['age_group'], dropna = False)\n",
    "age_department_crosstab"
   ]
  },
  {
   "cell_type": "code",
   "execution_count": 39,
   "id": "850f4268",
   "metadata": {},
   "outputs": [
    {
     "data": {
      "text/plain": [
       "(array([ 0,  1,  2,  3,  4,  5,  6,  7,  8,  9, 10, 11, 12, 13, 14, 15, 16,\n",
       "        17, 18, 19, 20]),\n",
       " [Text(0, 0, 'alcohol'),\n",
       "  Text(1, 0, 'babies'),\n",
       "  Text(2, 0, 'bakery'),\n",
       "  Text(3, 0, 'beverages'),\n",
       "  Text(4, 0, 'breakfast'),\n",
       "  Text(5, 0, 'bulk'),\n",
       "  Text(6, 0, 'canned goods'),\n",
       "  Text(7, 0, 'dairy eggs'),\n",
       "  Text(8, 0, 'deli'),\n",
       "  Text(9, 0, 'dry goods pasta'),\n",
       "  Text(10, 0, 'frozen'),\n",
       "  Text(11, 0, 'household'),\n",
       "  Text(12, 0, 'international'),\n",
       "  Text(13, 0, 'meat seafood'),\n",
       "  Text(14, 0, 'missing'),\n",
       "  Text(15, 0, 'other'),\n",
       "  Text(16, 0, 'pantry'),\n",
       "  Text(17, 0, 'personal care'),\n",
       "  Text(18, 0, 'pets'),\n",
       "  Text(19, 0, 'produce'),\n",
       "  Text(20, 0, 'snacks')])"
      ]
     },
     "execution_count": 39,
     "metadata": {},
     "output_type": "execute_result"
    },
    {
     "data": {
      "image/png": "[encoded data removed]",
      "text/plain": [
       "<Figure size 640x480 with 1 Axes>"
      ]
     },
     "metadata": {},
     "output_type": "display_data"
    }
   ],
   "source": [
    "# Create a stacked bar chart for age_group and region\n",
    "bar_age_department = age_department_crosstab.plot(kind = 'bar', rot = 0, color = ['blue', 'orange', 'lime'])\n",
    "bar_age_department.legend(title = 'Age Group', bbox_to_anchor = (1, 1.02), loc = 'upper left')\n",
    "plt.title('Age Groups Across Departments', fontsize = 20)\n",
    "plt.ylabel('Frequency (in millions)')\n",
    "plt.xlabel('Departments')\n",
    "plt.xticks(rotation = 90)"
   ]
  },
  {
   "cell_type": "code",
   "execution_count": 40,
   "id": "277d77aa",
   "metadata": {},
   "outputs": [
    {
     "data": {
      "text/html": [
       "<div>\n",
       "<style scoped>\n",
       "    .dataframe tbody tr th:only-of-type {\n",
       "        vertical-align: middle;\n",
       "    }\n",
       "\n",
       "    .dataframe tbody tr th {\n",
       "        vertical-align: top;\n",
       "    }\n",
       "\n",
       "    .dataframe thead th {\n",
       "        text-align: right;\n",
       "    }\n",
       "</style>\n",
       "<table border=\"1\" class=\"dataframe\">\n",
       "  <thead>\n",
       "    <tr style=\"text-align: right;\">\n",
       "      <th>income_group</th>\n",
       "      <th>High</th>\n",
       "      <th>Low</th>\n",
       "      <th>Middle</th>\n",
       "    </tr>\n",
       "    <tr>\n",
       "      <th>region</th>\n",
       "      <th></th>\n",
       "      <th></th>\n",
       "      <th></th>\n",
       "    </tr>\n",
       "  </thead>\n",
       "  <tbody>\n",
       "    <tr>\n",
       "      <th>Midwest</th>\n",
       "      <td>1971660</td>\n",
       "      <td>2300620</td>\n",
       "      <td>2989483</td>\n",
       "    </tr>\n",
       "    <tr>\n",
       "      <th>Northeast</th>\n",
       "      <td>1473372</td>\n",
       "      <td>1730055</td>\n",
       "      <td>2261452</td>\n",
       "    </tr>\n",
       "    <tr>\n",
       "      <th>South</th>\n",
       "      <td>2719416</td>\n",
       "      <td>3313751</td>\n",
       "      <td>4278364</td>\n",
       "    </tr>\n",
       "    <tr>\n",
       "      <th>West</th>\n",
       "      <td>2113883</td>\n",
       "      <td>2562635</td>\n",
       "      <td>3250995</td>\n",
       "    </tr>\n",
       "  </tbody>\n",
       "</table>\n",
       "</div>"
      ],
      "text/plain": [
       "income_group     High      Low   Middle\n",
       "region                                 \n",
       "Midwest       1971660  2300620  2989483\n",
       "Northeast     1473372  1730055  2261452\n",
       "South         2719416  3313751  4278364\n",
       "West          2113883  2562635  3250995"
      ]
     },
     "execution_count": 40,
     "metadata": {},
     "output_type": "execute_result"
    }
   ],
   "source": [
    "# Compare income groups across regions\n",
    "\n",
    "income_region_crosstab = pd.crosstab(df_high_activity['region'], df_high_activity['income_group'], dropna = False)\n",
    "income_region_crosstab"
   ]
  },
  {
   "cell_type": "code",
   "execution_count": 41,
   "id": "30215fc0",
   "metadata": {},
   "outputs": [
    {
     "data": {
      "text/plain": [
       "Text(0.5, 0, 'Regions')"
      ]
     },
     "execution_count": 41,
     "metadata": {},
     "output_type": "execute_result"
    },
    {
     "data": {
      "image/png": "[encoded data removed]",
      "text/plain": [
       "<Figure size 640x480 with 1 Axes>"
      ]
     },
     "metadata": {},
     "output_type": "display_data"
    }
   ],
   "source": [
    "# Create a stacked bar chart for income_group and region\n",
    "bar_income_region = income_region_crosstab.plot(kind = 'bar', rot = 0, color = ['red', 'green', 'yellow'])\n",
    "bar_income_region.legend(title = 'Income Group', bbox_to_anchor = (1, 1.02), loc = 'upper left')\n",
    "plt.title('Income Groups Across Regions', fontsize = 20)\n",
    "plt.ylabel('Frequency (in millions)')\n",
    "plt.xlabel('Regions')"
   ]
  },
  {
   "cell_type": "code",
   "execution_count": 42,
   "id": "7af57e22",
   "metadata": {},
   "outputs": [
    {
     "data": {
      "text/html": [
       "<div>\n",
       "<style scoped>\n",
       "    .dataframe tbody tr th:only-of-type {\n",
       "        vertical-align: middle;\n",
       "    }\n",
       "\n",
       "    .dataframe tbody tr th {\n",
       "        vertical-align: top;\n",
       "    }\n",
       "\n",
       "    .dataframe thead th {\n",
       "        text-align: right;\n",
       "    }\n",
       "</style>\n",
       "<table border=\"1\" class=\"dataframe\">\n",
       "  <thead>\n",
       "    <tr style=\"text-align: right;\">\n",
       "      <th>income_group</th>\n",
       "      <th>High</th>\n",
       "      <th>Low</th>\n",
       "      <th>Middle</th>\n",
       "    </tr>\n",
       "    <tr>\n",
       "      <th>department</th>\n",
       "      <th></th>\n",
       "      <th></th>\n",
       "      <th></th>\n",
       "    </tr>\n",
       "  </thead>\n",
       "  <tbody>\n",
       "    <tr>\n",
       "      <th>alcohol</th>\n",
       "      <td>43141</td>\n",
       "      <td>44581</td>\n",
       "      <td>56952</td>\n",
       "    </tr>\n",
       "    <tr>\n",
       "      <th>babies</th>\n",
       "      <td>114043</td>\n",
       "      <td>114785</td>\n",
       "      <td>181564</td>\n",
       "    </tr>\n",
       "    <tr>\n",
       "      <th>bakery</th>\n",
       "      <td>309803</td>\n",
       "      <td>341470</td>\n",
       "      <td>469555</td>\n",
       "    </tr>\n",
       "    <tr>\n",
       "      <th>beverages</th>\n",
       "      <td>660418</td>\n",
       "      <td>911389</td>\n",
       "      <td>1000094</td>\n",
       "    </tr>\n",
       "    <tr>\n",
       "      <th>breakfast</th>\n",
       "      <td>174382</td>\n",
       "      <td>233415</td>\n",
       "      <td>264075</td>\n",
       "    </tr>\n",
       "    <tr>\n",
       "      <th>bulk</th>\n",
       "      <td>8053</td>\n",
       "      <td>11926</td>\n",
       "      <td>13472</td>\n",
       "    </tr>\n",
       "    <tr>\n",
       "      <th>canned goods</th>\n",
       "      <td>283724</td>\n",
       "      <td>295130</td>\n",
       "      <td>433220</td>\n",
       "    </tr>\n",
       "    <tr>\n",
       "      <th>dairy eggs</th>\n",
       "      <td>1404631</td>\n",
       "      <td>1600647</td>\n",
       "      <td>2171904</td>\n",
       "    </tr>\n",
       "    <tr>\n",
       "      <th>deli</th>\n",
       "      <td>267853</td>\n",
       "      <td>318815</td>\n",
       "      <td>417166</td>\n",
       "    </tr>\n",
       "    <tr>\n",
       "      <th>dry goods pasta</th>\n",
       "      <td>227815</td>\n",
       "      <td>239771</td>\n",
       "      <td>354550</td>\n",
       "    </tr>\n",
       "    <tr>\n",
       "      <th>frozen</th>\n",
       "      <td>578256</td>\n",
       "      <td>660063</td>\n",
       "      <td>883412</td>\n",
       "    </tr>\n",
       "    <tr>\n",
       "      <th>household</th>\n",
       "      <td>188858</td>\n",
       "      <td>230632</td>\n",
       "      <td>280367</td>\n",
       "    </tr>\n",
       "    <tr>\n",
       "      <th>international</th>\n",
       "      <td>69979</td>\n",
       "      <td>76276</td>\n",
       "      <td>109736</td>\n",
       "    </tr>\n",
       "    <tr>\n",
       "      <th>meat seafood</th>\n",
       "      <td>195483</td>\n",
       "      <td>177686</td>\n",
       "      <td>301612</td>\n",
       "    </tr>\n",
       "    <tr>\n",
       "      <th>missing</th>\n",
       "      <td>17397</td>\n",
       "      <td>20805</td>\n",
       "      <td>26566</td>\n",
       "    </tr>\n",
       "    <tr>\n",
       "      <th>other</th>\n",
       "      <td>9262</td>\n",
       "      <td>10940</td>\n",
       "      <td>14209</td>\n",
       "    </tr>\n",
       "    <tr>\n",
       "      <th>pantry</th>\n",
       "      <td>489200</td>\n",
       "      <td>543471</td>\n",
       "      <td>750034</td>\n",
       "    </tr>\n",
       "    <tr>\n",
       "      <th>personal care</th>\n",
       "      <td>113358</td>\n",
       "      <td>137277</td>\n",
       "      <td>173724</td>\n",
       "    </tr>\n",
       "    <tr>\n",
       "      <th>pets</th>\n",
       "      <td>26455</td>\n",
       "      <td>28111</td>\n",
       "      <td>38494</td>\n",
       "    </tr>\n",
       "    <tr>\n",
       "      <th>produce</th>\n",
       "      <td>2454112</td>\n",
       "      <td>2778079</td>\n",
       "      <td>3847082</td>\n",
       "    </tr>\n",
       "    <tr>\n",
       "      <th>snacks</th>\n",
       "      <td>642108</td>\n",
       "      <td>1131792</td>\n",
       "      <td>992506</td>\n",
       "    </tr>\n",
       "  </tbody>\n",
       "</table>\n",
       "</div>"
      ],
      "text/plain": [
       "income_group        High      Low   Middle\n",
       "department                                \n",
       "alcohol            43141    44581    56952\n",
       "babies            114043   114785   181564\n",
       "bakery            309803   341470   469555\n",
       "beverages         660418   911389  1000094\n",
       "breakfast         174382   233415   264075\n",
       "bulk                8053    11926    13472\n",
       "canned goods      283724   295130   433220\n",
       "dairy eggs       1404631  1600647  2171904\n",
       "deli              267853   318815   417166\n",
       "dry goods pasta   227815   239771   354550\n",
       "frozen            578256   660063   883412\n",
       "household         188858   230632   280367\n",
       "international      69979    76276   109736\n",
       "meat seafood      195483   177686   301612\n",
       "missing            17397    20805    26566\n",
       "other               9262    10940    14209\n",
       "pantry            489200   543471   750034\n",
       "personal care     113358   137277   173724\n",
       "pets               26455    28111    38494\n",
       "produce          2454112  2778079  3847082\n",
       "snacks            642108  1131792   992506"
      ]
     },
     "execution_count": 42,
     "metadata": {},
     "output_type": "execute_result"
    }
   ],
   "source": [
    "# Compare income groups across departments\n",
    "\n",
    "income_department_crosstab = pd.crosstab(df_high_activity['department'], df_high_activity['income_group'], dropna = False)\n",
    "income_department_crosstab"
   ]
  },
  {
   "cell_type": "code",
   "execution_count": 43,
   "id": "4abb2cfd",
   "metadata": {},
   "outputs": [
    {
     "data": {
      "text/plain": [
       "(array([ 0,  1,  2,  3,  4,  5,  6,  7,  8,  9, 10, 11, 12, 13, 14, 15, 16,\n",
       "        17, 18, 19, 20]),\n",
       " [Text(0, 0, 'alcohol'),\n",
       "  Text(1, 0, 'babies'),\n",
       "  Text(2, 0, 'bakery'),\n",
       "  Text(3, 0, 'beverages'),\n",
       "  Text(4, 0, 'breakfast'),\n",
       "  Text(5, 0, 'bulk'),\n",
       "  Text(6, 0, 'canned goods'),\n",
       "  Text(7, 0, 'dairy eggs'),\n",
       "  Text(8, 0, 'deli'),\n",
       "  Text(9, 0, 'dry goods pasta'),\n",
       "  Text(10, 0, 'frozen'),\n",
       "  Text(11, 0, 'household'),\n",
       "  Text(12, 0, 'international'),\n",
       "  Text(13, 0, 'meat seafood'),\n",
       "  Text(14, 0, 'missing'),\n",
       "  Text(15, 0, 'other'),\n",
       "  Text(16, 0, 'pantry'),\n",
       "  Text(17, 0, 'personal care'),\n",
       "  Text(18, 0, 'pets'),\n",
       "  Text(19, 0, 'produce'),\n",
       "  Text(20, 0, 'snacks')])"
      ]
     },
     "execution_count": 43,
     "metadata": {},
     "output_type": "execute_result"
    },
    {
     "data": {
      "image/png": "[encoded data removed]",
      "text/plain": [
       "<Figure size 640x480 with 1 Axes>"
      ]
     },
     "metadata": {},
     "output_type": "display_data"
    }
   ],
   "source": [
    "# Create a stacked bar chart for income_group and department\n",
    "bar_income_department = income_department_crosstab.plot(kind = 'bar', rot = 0, color = ['red', 'green', 'yellow'])\n",
    "bar_income_department.legend(title = 'Income Group', bbox_to_anchor = (1, 1.02), loc = 'upper left')\n",
    "plt.title('Income Group Across Departments', fontsize = 20)\n",
    "plt.ylabel('Frequency (in millions)')\n",
    "plt.xlabel('Departments')\n",
    "plt.xticks(rotation = 90)"
   ]
  },
  {
   "cell_type": "code",
   "execution_count": 44,
   "id": "9e5cc225",
   "metadata": {},
   "outputs": [
    {
     "data": {
      "text/html": [
       "<div>\n",
       "<style scoped>\n",
       "    .dataframe tbody tr th:only-of-type {\n",
       "        vertical-align: middle;\n",
       "    }\n",
       "\n",
       "    .dataframe tbody tr th {\n",
       "        vertical-align: top;\n",
       "    }\n",
       "\n",
       "    .dataframe thead th {\n",
       "        text-align: right;\n",
       "    }\n",
       "</style>\n",
       "<table border=\"1\" class=\"dataframe\">\n",
       "  <thead>\n",
       "    <tr style=\"text-align: right;\">\n",
       "      <th>household_size</th>\n",
       "      <th>Large Household</th>\n",
       "      <th>Medium Household</th>\n",
       "      <th>Single Household</th>\n",
       "    </tr>\n",
       "    <tr>\n",
       "      <th>region</th>\n",
       "      <th></th>\n",
       "      <th></th>\n",
       "      <th></th>\n",
       "    </tr>\n",
       "  </thead>\n",
       "  <tbody>\n",
       "    <tr>\n",
       "      <th>Midwest</th>\n",
       "      <td>1787346</td>\n",
       "      <td>3651527</td>\n",
       "      <td>1822890</td>\n",
       "    </tr>\n",
       "    <tr>\n",
       "      <th>Northeast</th>\n",
       "      <td>1381277</td>\n",
       "      <td>2729052</td>\n",
       "      <td>1354550</td>\n",
       "    </tr>\n",
       "    <tr>\n",
       "      <th>South</th>\n",
       "      <td>2585960</td>\n",
       "      <td>5143535</td>\n",
       "      <td>2582036</td>\n",
       "    </tr>\n",
       "    <tr>\n",
       "      <th>West</th>\n",
       "      <td>2018193</td>\n",
       "      <td>3928780</td>\n",
       "      <td>1980540</td>\n",
       "    </tr>\n",
       "  </tbody>\n",
       "</table>\n",
       "</div>"
      ],
      "text/plain": [
       "household_size  Large Household  Medium Household  Single Household\n",
       "region                                                             \n",
       "Midwest                 1787346           3651527           1822890\n",
       "Northeast               1381277           2729052           1354550\n",
       "South                   2585960           5143535           2582036\n",
       "West                    2018193           3928780           1980540"
      ]
     },
     "execution_count": 44,
     "metadata": {},
     "output_type": "execute_result"
    }
   ],
   "source": [
    "# Compare family size across regions\n",
    "\n",
    "family_region_crosstab = pd.crosstab(df_high_activity['region'], df_high_activity['household_size'], dropna = False)\n",
    "family_region_crosstab"
   ]
  },
  {
   "cell_type": "code",
   "execution_count": 45,
   "id": "c4407980",
   "metadata": {},
   "outputs": [
    {
     "data": {
      "text/plain": [
       "Text(0.5, 0, 'Regions')"
      ]
     },
     "execution_count": 45,
     "metadata": {},
     "output_type": "execute_result"
    },
    {
     "data": {
      "image/png": "[encoded data removed]",
      "text/plain": [
       "<Figure size 640x480 with 1 Axes>"
      ]
     },
     "metadata": {},
     "output_type": "display_data"
    }
   ],
   "source": [
    "# Create a stacked bar chart for family size and region\n",
    "bar_family_region = family_region_crosstab.plot(kind = 'bar', rot = 0, color = ['red', 'orange', 'yellow'])\n",
    "bar_family_region.legend(title = 'Household Size', bbox_to_anchor = (1, 1.02), loc = 'upper left')\n",
    "plt.title('Household Size Across Regions', fontsize = 20)\n",
    "plt.ylabel('Frequency (in millions)')\n",
    "plt.xlabel('Regions')"
   ]
  },
  {
   "cell_type": "code",
   "execution_count": 46,
   "id": "d4983631",
   "metadata": {},
   "outputs": [
    {
     "data": {
      "text/html": [
       "<div>\n",
       "<style scoped>\n",
       "    .dataframe tbody tr th:only-of-type {\n",
       "        vertical-align: middle;\n",
       "    }\n",
       "\n",
       "    .dataframe tbody tr th {\n",
       "        vertical-align: top;\n",
       "    }\n",
       "\n",
       "    .dataframe thead th {\n",
       "        text-align: right;\n",
       "    }\n",
       "</style>\n",
       "<table border=\"1\" class=\"dataframe\">\n",
       "  <thead>\n",
       "    <tr style=\"text-align: right;\">\n",
       "      <th>household_size</th>\n",
       "      <th>Large Household</th>\n",
       "      <th>Medium Household</th>\n",
       "      <th>Single Household</th>\n",
       "    </tr>\n",
       "    <tr>\n",
       "      <th>department</th>\n",
       "      <th></th>\n",
       "      <th></th>\n",
       "      <th></th>\n",
       "    </tr>\n",
       "  </thead>\n",
       "  <tbody>\n",
       "    <tr>\n",
       "      <th>alcohol</th>\n",
       "      <td>37344</td>\n",
       "      <td>70478</td>\n",
       "      <td>36852</td>\n",
       "    </tr>\n",
       "    <tr>\n",
       "      <th>babies</th>\n",
       "      <td>102585</td>\n",
       "      <td>204479</td>\n",
       "      <td>103328</td>\n",
       "    </tr>\n",
       "    <tr>\n",
       "      <th>bakery</th>\n",
       "      <td>279822</td>\n",
       "      <td>559611</td>\n",
       "      <td>281395</td>\n",
       "    </tr>\n",
       "    <tr>\n",
       "      <th>beverages</th>\n",
       "      <td>640927</td>\n",
       "      <td>1285633</td>\n",
       "      <td>645341</td>\n",
       "    </tr>\n",
       "    <tr>\n",
       "      <th>breakfast</th>\n",
       "      <td>167563</td>\n",
       "      <td>337589</td>\n",
       "      <td>166720</td>\n",
       "    </tr>\n",
       "    <tr>\n",
       "      <th>bulk</th>\n",
       "      <td>8403</td>\n",
       "      <td>17048</td>\n",
       "      <td>8000</td>\n",
       "    </tr>\n",
       "    <tr>\n",
       "      <th>canned goods</th>\n",
       "      <td>255325</td>\n",
       "      <td>505729</td>\n",
       "      <td>251020</td>\n",
       "    </tr>\n",
       "    <tr>\n",
       "      <th>dairy eggs</th>\n",
       "      <td>1296264</td>\n",
       "      <td>2586542</td>\n",
       "      <td>1294376</td>\n",
       "    </tr>\n",
       "    <tr>\n",
       "      <th>deli</th>\n",
       "      <td>252592</td>\n",
       "      <td>497860</td>\n",
       "      <td>253382</td>\n",
       "    </tr>\n",
       "    <tr>\n",
       "      <th>dry goods pasta</th>\n",
       "      <td>208412</td>\n",
       "      <td>409428</td>\n",
       "      <td>204296</td>\n",
       "    </tr>\n",
       "    <tr>\n",
       "      <th>frozen</th>\n",
       "      <td>532408</td>\n",
       "      <td>1059975</td>\n",
       "      <td>529348</td>\n",
       "    </tr>\n",
       "    <tr>\n",
       "      <th>household</th>\n",
       "      <td>176284</td>\n",
       "      <td>352215</td>\n",
       "      <td>171358</td>\n",
       "    </tr>\n",
       "    <tr>\n",
       "      <th>international</th>\n",
       "      <td>63473</td>\n",
       "      <td>128057</td>\n",
       "      <td>64461</td>\n",
       "    </tr>\n",
       "    <tr>\n",
       "      <th>meat seafood</th>\n",
       "      <td>171423</td>\n",
       "      <td>337480</td>\n",
       "      <td>165878</td>\n",
       "    </tr>\n",
       "    <tr>\n",
       "      <th>missing</th>\n",
       "      <td>16435</td>\n",
       "      <td>32398</td>\n",
       "      <td>15935</td>\n",
       "    </tr>\n",
       "    <tr>\n",
       "      <th>other</th>\n",
       "      <td>8377</td>\n",
       "      <td>17320</td>\n",
       "      <td>8714</td>\n",
       "    </tr>\n",
       "    <tr>\n",
       "      <th>pantry</th>\n",
       "      <td>446156</td>\n",
       "      <td>892645</td>\n",
       "      <td>443904</td>\n",
       "    </tr>\n",
       "    <tr>\n",
       "      <th>personal care</th>\n",
       "      <td>106323</td>\n",
       "      <td>211809</td>\n",
       "      <td>106227</td>\n",
       "    </tr>\n",
       "    <tr>\n",
       "      <th>pets</th>\n",
       "      <td>23142</td>\n",
       "      <td>46316</td>\n",
       "      <td>23602</td>\n",
       "    </tr>\n",
       "    <tr>\n",
       "      <th>produce</th>\n",
       "      <td>2287719</td>\n",
       "      <td>4516113</td>\n",
       "      <td>2275441</td>\n",
       "    </tr>\n",
       "    <tr>\n",
       "      <th>snacks</th>\n",
       "      <td>691799</td>\n",
       "      <td>1384169</td>\n",
       "      <td>690438</td>\n",
       "    </tr>\n",
       "  </tbody>\n",
       "</table>\n",
       "</div>"
      ],
      "text/plain": [
       "household_size   Large Household  Medium Household  Single Household\n",
       "department                                                          \n",
       "alcohol                    37344             70478             36852\n",
       "babies                    102585            204479            103328\n",
       "bakery                    279822            559611            281395\n",
       "beverages                 640927           1285633            645341\n",
       "breakfast                 167563            337589            166720\n",
       "bulk                        8403             17048              8000\n",
       "canned goods              255325            505729            251020\n",
       "dairy eggs               1296264           2586542           1294376\n",
       "deli                      252592            497860            253382\n",
       "dry goods pasta           208412            409428            204296\n",
       "frozen                    532408           1059975            529348\n",
       "household                 176284            352215            171358\n",
       "international              63473            128057             64461\n",
       "meat seafood              171423            337480            165878\n",
       "missing                    16435             32398             15935\n",
       "other                       8377             17320              8714\n",
       "pantry                    446156            892645            443904\n",
       "personal care             106323            211809            106227\n",
       "pets                       23142             46316             23602\n",
       "produce                  2287719           4516113           2275441\n",
       "snacks                    691799           1384169            690438"
      ]
     },
     "execution_count": 46,
     "metadata": {},
     "output_type": "execute_result"
    }
   ],
   "source": [
    "# Compare family size across departments\n",
    "\n",
    "family_department_crosstab = pd.crosstab(df_high_activity['department'], df_high_activity['household_size'], dropna = False)\n",
    "family_department_crosstab"
   ]
  },
  {
   "cell_type": "code",
   "execution_count": 47,
   "id": "7f52fc53",
   "metadata": {},
   "outputs": [
    {
     "data": {
      "text/plain": [
       "(array([ 0,  1,  2,  3,  4,  5,  6,  7,  8,  9, 10, 11, 12, 13, 14, 15, 16,\n",
       "        17, 18, 19, 20]),\n",
       " [Text(0, 0, 'alcohol'),\n",
       "  Text(1, 0, 'babies'),\n",
       "  Text(2, 0, 'bakery'),\n",
       "  Text(3, 0, 'beverages'),\n",
       "  Text(4, 0, 'breakfast'),\n",
       "  Text(5, 0, 'bulk'),\n",
       "  Text(6, 0, 'canned goods'),\n",
       "  Text(7, 0, 'dairy eggs'),\n",
       "  Text(8, 0, 'deli'),\n",
       "  Text(9, 0, 'dry goods pasta'),\n",
       "  Text(10, 0, 'frozen'),\n",
       "  Text(11, 0, 'household'),\n",
       "  Text(12, 0, 'international'),\n",
       "  Text(13, 0, 'meat seafood'),\n",
       "  Text(14, 0, 'missing'),\n",
       "  Text(15, 0, 'other'),\n",
       "  Text(16, 0, 'pantry'),\n",
       "  Text(17, 0, 'personal care'),\n",
       "  Text(18, 0, 'pets'),\n",
       "  Text(19, 0, 'produce'),\n",
       "  Text(20, 0, 'snacks')])"
      ]
     },
     "execution_count": 47,
     "metadata": {},
     "output_type": "execute_result"
    },
    {
     "data": {
      "image/png": "[encoded data removed]",
      "text/plain": [
       "<Figure size 640x480 with 1 Axes>"
      ]
     },
     "metadata": {},
     "output_type": "display_data"
    }
   ],
   "source": [
    "# Create a stacked bar chart for family size and department\n",
    "bar_family_department = family_department_crosstab.plot(kind = 'bar', rot = 0, color = ['red', 'orange', 'yellow'])\n",
    "bar_family_department.legend(title = 'Household Size', bbox_to_anchor = (1, 1.02), loc = 'upper left')\n",
    "plt.title('Household Size Across Departments', fontsize = 20)\n",
    "plt.ylabel('Frequency (in millions)')\n",
    "plt.xlabel('Departments')\n",
    "plt.xticks(rotation = 90)"
   ]
  },
  {
   "cell_type": "markdown",
   "id": "03c33d2d",
   "metadata": {},
   "source": [
    "Customer behaviors stay consistent throughout each region. Medium sized household and middle income earners make up the largest part of the customer base."
   ]
  },
  {
   "cell_type": "code",
   "execution_count": 48,
   "id": "6bf67cfe",
   "metadata": {},
   "outputs": [
    {
     "data": {
      "text/html": [
       "<div>\n",
       "<style scoped>\n",
       "    .dataframe tbody tr th:only-of-type {\n",
       "        vertical-align: middle;\n",
       "    }\n",
       "\n",
       "    .dataframe tbody tr th {\n",
       "        vertical-align: top;\n",
       "    }\n",
       "\n",
       "    .dataframe thead th {\n",
       "        text-align: right;\n",
       "    }\n",
       "</style>\n",
       "<table border=\"1\" class=\"dataframe\">\n",
       "  <thead>\n",
       "    <tr style=\"text-align: right;\">\n",
       "      <th>marital_status</th>\n",
       "      <th>divorced/widowed</th>\n",
       "      <th>living with parents and siblings</th>\n",
       "      <th>married</th>\n",
       "      <th>single</th>\n",
       "    </tr>\n",
       "    <tr>\n",
       "      <th>age_group</th>\n",
       "      <th></th>\n",
       "      <th></th>\n",
       "      <th></th>\n",
       "      <th></th>\n",
       "    </tr>\n",
       "  </thead>\n",
       "  <tbody>\n",
       "    <tr>\n",
       "      <th>Middle-Aged</th>\n",
       "      <td>623344</td>\n",
       "      <td>0</td>\n",
       "      <td>9047080</td>\n",
       "      <td>2433966</td>\n",
       "    </tr>\n",
       "    <tr>\n",
       "      <th>Senior</th>\n",
       "      <td>2022027</td>\n",
       "      <td>0</td>\n",
       "      <td>6173779</td>\n",
       "      <td>0</td>\n",
       "    </tr>\n",
       "    <tr>\n",
       "      <th>Young Adult</th>\n",
       "      <td>0</td>\n",
       "      <td>1481208</td>\n",
       "      <td>6523603</td>\n",
       "      <td>2660679</td>\n",
       "    </tr>\n",
       "  </tbody>\n",
       "</table>\n",
       "</div>"
      ],
      "text/plain": [
       "marital_status  divorced/widowed  living with parents and siblings  married  \\\n",
       "age_group                                                                     \n",
       "Middle-Aged               623344                                 0  9047080   \n",
       "Senior                   2022027                                 0  6173779   \n",
       "Young Adult                    0                           1481208  6523603   \n",
       "\n",
       "marital_status   single  \n",
       "age_group                \n",
       "Middle-Aged     2433966  \n",
       "Senior                0  \n",
       "Young Adult     2660679  "
      ]
     },
     "execution_count": 48,
     "metadata": {},
     "output_type": "execute_result"
    }
   ],
   "source": [
    "#crosstab on age_group and marital_status\n",
    "\n",
    "crosstab_age_family_status = pd.crosstab (df_high_activity['age_group'], df_high_activity['marital_status'], dropna = False)\n",
    "crosstab_age_family_status"
   ]
  },
  {
   "cell_type": "code",
   "execution_count": 49,
   "id": "05facc4d",
   "metadata": {},
   "outputs": [
    {
     "data": {
      "text/plain": [
       "Text(0.5, 0, 'Age Groups')"
      ]
     },
     "execution_count": 49,
     "metadata": {},
     "output_type": "execute_result"
    },
    {
     "data": {
      "image/png": "[encoded data removed]",
      "text/plain": [
       "<Figure size 640x480 with 1 Axes>"
      ]
     },
     "metadata": {},
     "output_type": "display_data"
    }
   ],
   "source": [
    "# Create a stacked bar chart\n",
    "\n",
    "bar_chart_age_family_status = crosstab_age_family_status.plot(kind='bar', stacked=True)\n",
    "bar_chart_age_family_status.legend(title = 'Marital Status', bbox_to_anchor = (1, 1.02), loc = 'upper left')\n",
    "plt.title('Living Arangements', fontsize = 20)\n",
    "plt.ylabel('Frequency (in millions)')\n",
    "plt.xlabel('Age Groups')"
   ]
  },
  {
   "cell_type": "markdown",
   "id": "e40679ae",
   "metadata": {},
   "source": [
    "# Export"
   ]
  },
  {
   "cell_type": "code",
   "execution_count": 54,
   "id": "1ffb4f08",
   "metadata": {},
   "outputs": [],
   "source": [
    "bar_chart_age_family_status.figure.savefig(os.path.join(path, '04. Analysis', 'Visualizations', 'bar_chart_age_family_status.png'))\n",
    "bar_family_department.figure.savefig(os.path.join(path, '04. Analysis', 'Visualizations', 'bar_family_department.png'))\n",
    "bar_family_region.figure.savefig(os.path.join(path, '04. Analysis', 'Visualizations', 'bar_family_region.png'))\n",
    "bar_income_department.figure.savefig(os.path.join(path, '04. Analysis', 'Visualizations', 'bar_income_department.png'))\n",
    "bar_income_region.figure.savefig(os.path.join(path, '04. Analysis', 'Visualizations', 'bar_income_region.png'))\n",
    "bar_age_department.figure.savefig(os.path.join(path, '04. Analysis', 'Visualizations', 'bar_age_department.png'))\n",
    "bar_age_region.figure.savefig(os.path.join(path, '04. Analysis', 'Visualizations', 'bar_age_region.png'))\n",
    "bar_departments.figure.savefig(os.path.join(path, '04. Analysis', 'Visualizations', 'bar_departments.png'))\n",
    "bar_household_size.figure.savefig(os.path.join(path, '04. Analysis', 'Visualizations', 'bar_household_size.png'))\n",
    "bar_income_group.figure.savefig(os.path.join(path, '04. Analysis', 'Visualizations', 'bar_income_group.png'))\n",
    "bar_age_group.figure.savefig(os.path.join(path, '04. Analysis', 'Visualizations', 'bar_age_group.png'))"
   ]
  },
  {
   "cell_type": "code",
   "execution_count": null,
   "id": "e78829a3",
   "metadata": {},
   "outputs": [],
   "source": []
  }
 ],
 "metadata": {
  "kernelspec": {
   "display_name": "Python 3 (ipykernel)",
   "language": "python",
   "name": "python3"
  },
  "language_info": {
   "codemirror_mode": {
    "name": "ipython",
    "version": 3
   },
   "file_extension": ".py",
   "mimetype": "text/x-python",
   "name": "python",
   "nbconvert_exporter": "python",
   "pygments_lexer": "ipython3",
   "version": "3.9.13"
  }
 },
 "nbformat": 4,
 "nbformat_minor": 5
}
