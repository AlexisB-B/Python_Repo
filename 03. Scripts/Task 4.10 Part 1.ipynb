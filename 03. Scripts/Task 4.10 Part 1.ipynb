{
 "cells": [
  {
   "cell_type": "markdown",
   "id": "e3133892",
   "metadata": {},
   "source": [
    "# Task 4.10 Part 1"
   ]
  },
  {
   "cell_type": "markdown",
   "id": "c1268643",
   "metadata": {},
   "source": [
    "## Script Points"
   ]
  },
  {
   "cell_type": "markdown",
   "id": "219f338f",
   "metadata": {},
   "source": [
    "1. Import Data & Libraries\n",
    "2. Check for Security Implications\n",
    "3. Create Region Column\n",
    "4. Determine Regional Differences in Spending Habits\n",
    "5. Create Activity Flag\n",
    "6. Exporting"
   ]
  },
  {
   "cell_type": "markdown",
   "id": "329bf0cf",
   "metadata": {},
   "source": [
    "# Import Data & Libraries"
   ]
  },
  {
   "cell_type": "code",
   "execution_count": 5,
   "id": "e01d7aec",
   "metadata": {},
   "outputs": [],
   "source": [
    "import pandas as pd\n",
    "import numpy as np\n",
    "import os\n",
    "import matplotlib.pyplot as plt\n",
    "import seaborn as sns\n",
    "import scipy"
   ]
  },
  {
   "cell_type": "code",
   "execution_count": 6,
   "id": "ac06a02a",
   "metadata": {},
   "outputs": [],
   "source": [
    "# Create path\n",
    "\n",
    "path = r'C:\\Users\\alexi\\OneDrive\\02-2023 Instacart Basket Analysis'"
   ]
  },
  {
   "cell_type": "code",
   "execution_count": 7,
   "id": "005b36e2",
   "metadata": {},
   "outputs": [],
   "source": [
    "# Import Data\n",
    "\n",
    "ic_data = pd.read_pickle(os.path.join(path, '02. Data', 'Prepared Data', 'complete_data.pkl'))"
   ]
  },
  {
   "cell_type": "markdown",
   "id": "aa026b9f",
   "metadata": {},
   "source": [
    "# Check for Security Implications"
   ]
  },
  {
   "cell_type": "code",
   "execution_count": 4,
   "id": "5706f536",
   "metadata": {},
   "outputs": [
    {
     "data": {
      "text/html": [
       "<div>\n",
       "<style scoped>\n",
       "    .dataframe tbody tr th:only-of-type {\n",
       "        vertical-align: middle;\n",
       "    }\n",
       "\n",
       "    .dataframe tbody tr th {\n",
       "        vertical-align: top;\n",
       "    }\n",
       "\n",
       "    .dataframe thead th {\n",
       "        text-align: right;\n",
       "    }\n",
       "</style>\n",
       "<table border=\"1\" class=\"dataframe\">\n",
       "  <thead>\n",
       "    <tr style=\"text-align: right;\">\n",
       "      <th></th>\n",
       "      <th>order_id</th>\n",
       "      <th>user_id</th>\n",
       "      <th>order_number</th>\n",
       "      <th>orders_day_of_week</th>\n",
       "      <th>time_of_order</th>\n",
       "      <th>days_since_prior_order</th>\n",
       "      <th>product_id</th>\n",
       "      <th>add_to_cart_order</th>\n",
       "      <th>reordered</th>\n",
       "      <th>product_name</th>\n",
       "      <th>...</th>\n",
       "      <th>spending_flag</th>\n",
       "      <th>median_days_since_prior_order</th>\n",
       "      <th>frequency_flag</th>\n",
       "      <th>gender</th>\n",
       "      <th>state</th>\n",
       "      <th>age</th>\n",
       "      <th>date_joined</th>\n",
       "      <th>dependant_count</th>\n",
       "      <th>marital_status</th>\n",
       "      <th>income</th>\n",
       "    </tr>\n",
       "  </thead>\n",
       "  <tbody>\n",
       "    <tr>\n",
       "      <th>0</th>\n",
       "      <td>2539329</td>\n",
       "      <td>1</td>\n",
       "      <td>1</td>\n",
       "      <td>2</td>\n",
       "      <td>8</td>\n",
       "      <td>NaN</td>\n",
       "      <td>196</td>\n",
       "      <td>1</td>\n",
       "      <td>0</td>\n",
       "      <td>Soda</td>\n",
       "      <td>...</td>\n",
       "      <td>Low spender</td>\n",
       "      <td>20.5</td>\n",
       "      <td>Non-frequent customer</td>\n",
       "      <td>Female</td>\n",
       "      <td>Alabama</td>\n",
       "      <td>31</td>\n",
       "      <td>2/17/2019</td>\n",
       "      <td>3</td>\n",
       "      <td>married</td>\n",
       "      <td>40423</td>\n",
       "    </tr>\n",
       "    <tr>\n",
       "      <th>1</th>\n",
       "      <td>2398795</td>\n",
       "      <td>1</td>\n",
       "      <td>2</td>\n",
       "      <td>3</td>\n",
       "      <td>7</td>\n",
       "      <td>15.0</td>\n",
       "      <td>196</td>\n",
       "      <td>1</td>\n",
       "      <td>1</td>\n",
       "      <td>Soda</td>\n",
       "      <td>...</td>\n",
       "      <td>Low spender</td>\n",
       "      <td>20.5</td>\n",
       "      <td>Non-frequent customer</td>\n",
       "      <td>Female</td>\n",
       "      <td>Alabama</td>\n",
       "      <td>31</td>\n",
       "      <td>2/17/2019</td>\n",
       "      <td>3</td>\n",
       "      <td>married</td>\n",
       "      <td>40423</td>\n",
       "    </tr>\n",
       "    <tr>\n",
       "      <th>2</th>\n",
       "      <td>473747</td>\n",
       "      <td>1</td>\n",
       "      <td>3</td>\n",
       "      <td>3</td>\n",
       "      <td>12</td>\n",
       "      <td>21.0</td>\n",
       "      <td>196</td>\n",
       "      <td>1</td>\n",
       "      <td>1</td>\n",
       "      <td>Soda</td>\n",
       "      <td>...</td>\n",
       "      <td>Low spender</td>\n",
       "      <td>20.5</td>\n",
       "      <td>Non-frequent customer</td>\n",
       "      <td>Female</td>\n",
       "      <td>Alabama</td>\n",
       "      <td>31</td>\n",
       "      <td>2/17/2019</td>\n",
       "      <td>3</td>\n",
       "      <td>married</td>\n",
       "      <td>40423</td>\n",
       "    </tr>\n",
       "    <tr>\n",
       "      <th>3</th>\n",
       "      <td>2254736</td>\n",
       "      <td>1</td>\n",
       "      <td>4</td>\n",
       "      <td>4</td>\n",
       "      <td>7</td>\n",
       "      <td>29.0</td>\n",
       "      <td>196</td>\n",
       "      <td>1</td>\n",
       "      <td>1</td>\n",
       "      <td>Soda</td>\n",
       "      <td>...</td>\n",
       "      <td>Low spender</td>\n",
       "      <td>20.5</td>\n",
       "      <td>Non-frequent customer</td>\n",
       "      <td>Female</td>\n",
       "      <td>Alabama</td>\n",
       "      <td>31</td>\n",
       "      <td>2/17/2019</td>\n",
       "      <td>3</td>\n",
       "      <td>married</td>\n",
       "      <td>40423</td>\n",
       "    </tr>\n",
       "    <tr>\n",
       "      <th>4</th>\n",
       "      <td>431534</td>\n",
       "      <td>1</td>\n",
       "      <td>5</td>\n",
       "      <td>4</td>\n",
       "      <td>15</td>\n",
       "      <td>28.0</td>\n",
       "      <td>196</td>\n",
       "      <td>1</td>\n",
       "      <td>1</td>\n",
       "      <td>Soda</td>\n",
       "      <td>...</td>\n",
       "      <td>Low spender</td>\n",
       "      <td>20.5</td>\n",
       "      <td>Non-frequent customer</td>\n",
       "      <td>Female</td>\n",
       "      <td>Alabama</td>\n",
       "      <td>31</td>\n",
       "      <td>2/17/2019</td>\n",
       "      <td>3</td>\n",
       "      <td>married</td>\n",
       "      <td>40423</td>\n",
       "    </tr>\n",
       "  </tbody>\n",
       "</table>\n",
       "<p>5 rows × 30 columns</p>\n",
       "</div>"
      ],
      "text/plain": [
       "   order_id user_id  order_number  orders_day_of_week  time_of_order  \\\n",
       "0   2539329       1             1                   2              8   \n",
       "1   2398795       1             2                   3              7   \n",
       "2    473747       1             3                   3             12   \n",
       "3   2254736       1             4                   4              7   \n",
       "4    431534       1             5                   4             15   \n",
       "\n",
       "   days_since_prior_order  product_id  add_to_cart_order  reordered  \\\n",
       "0                     NaN         196                  1          0   \n",
       "1                    15.0         196                  1          1   \n",
       "2                    21.0         196                  1          1   \n",
       "3                    29.0         196                  1          1   \n",
       "4                    28.0         196                  1          1   \n",
       "\n",
       "  product_name  ...  spending_flag  median_days_since_prior_order  \\\n",
       "0         Soda  ...    Low spender                           20.5   \n",
       "1         Soda  ...    Low spender                           20.5   \n",
       "2         Soda  ...    Low spender                           20.5   \n",
       "3         Soda  ...    Low spender                           20.5   \n",
       "4         Soda  ...    Low spender                           20.5   \n",
       "\n",
       "          frequency_flag  gender    state age date_joined  dependant_count  \\\n",
       "0  Non-frequent customer  Female  Alabama  31   2/17/2019                3   \n",
       "1  Non-frequent customer  Female  Alabama  31   2/17/2019                3   \n",
       "2  Non-frequent customer  Female  Alabama  31   2/17/2019                3   \n",
       "3  Non-frequent customer  Female  Alabama  31   2/17/2019                3   \n",
       "4  Non-frequent customer  Female  Alabama  31   2/17/2019                3   \n",
       "\n",
       "  marital_status  income  \n",
       "0        married   40423  \n",
       "1        married   40423  \n",
       "2        married   40423  \n",
       "3        married   40423  \n",
       "4        married   40423  \n",
       "\n",
       "[5 rows x 30 columns]"
      ]
     },
     "execution_count": 4,
     "metadata": {},
     "output_type": "execute_result"
    }
   ],
   "source": [
    "ic_data.head(5)"
   ]
  },
  {
   "cell_type": "markdown",
   "id": "0a7289a8",
   "metadata": {},
   "source": [
    "First and last name columns were removed previously. No other PII is present in the dataframe."
   ]
  },
  {
   "cell_type": "markdown",
   "id": "18fcd71a",
   "metadata": {},
   "source": [
    "# Create Region Column"
   ]
  },
  {
   "cell_type": "code",
   "execution_count": 8,
   "id": "fb2545ed",
   "metadata": {},
   "outputs": [],
   "source": [
    "# Define the regions\n",
    "northeast = ['Maine', 'New Hampshire', 'Vermont', 'Massachusetts', 'Rhode Island', 'Connecticut', 'New York', 'Pennsylvania', 'New Jersey']\n",
    "midwest = ['Wisconsin', 'Michigan', 'Illinois', 'Indiana', 'Ohio', 'North Dakota', 'South Dakota', 'Nebraska', 'Kansas', 'Minnesota', 'Iowa', 'Missouri']\n",
    "south = ['Delaware', 'Maryland', 'District of Columbia', 'Virginia', 'West Virginia', 'North Carolina', 'South Carolina', 'Georgia', 'Florida', 'Kentucky', 'Tennessee', 'Mississippi', 'Alabama', 'Oklahoma', 'Texas', 'Arkansas', 'Louisiana']\n",
    "west = ['Idaho', 'Montana', 'Wyoming', 'Nevada', 'Utah', 'Colorado', 'Arizona', 'New Mexico', 'Alaska', 'Washington', 'Oregon', 'California', 'Hawaii']"
   ]
  },
  {
   "cell_type": "code",
   "execution_count": 9,
   "id": "31c2a9e8",
   "metadata": {},
   "outputs": [],
   "source": [
    "# Place the states into regions\n",
    "ic_data.loc[ic_data['state'].isin(northeast), 'region'] = 'Northeast'\n",
    "ic_data.loc[ic_data['state'].isin(midwest), 'region'] = 'Midwest'\n",
    "ic_data.loc[ic_data['state'].isin(south), 'region'] = 'South'\n",
    "ic_data.loc[ic_data['state'].isin(west), 'region'] = 'West'"
   ]
  },
  {
   "cell_type": "code",
   "execution_count": 10,
   "id": "ff617d40",
   "metadata": {},
   "outputs": [
    {
     "data": {
      "text/plain": [
       "South        10792300\n",
       "West          8293217\n",
       "Midwest       7597585\n",
       "Northeast     5722939\n",
       "Name: region, dtype: int64"
      ]
     },
     "execution_count": 10,
     "metadata": {},
     "output_type": "execute_result"
    }
   ],
   "source": [
    "# Check the region count\n",
    "ic_data['region'].value_counts(dropna = False)"
   ]
  },
  {
   "cell_type": "markdown",
   "id": "5527591f",
   "metadata": {},
   "source": [
    "# Determine Regional Differences in Spending Habits"
   ]
  },
  {
   "cell_type": "code",
   "execution_count": 11,
   "id": "b953eecd",
   "metadata": {},
   "outputs": [],
   "source": [
    "crosstab = pd.crosstab(ic_data['region'], ic_data['spending_flag'], dropna = False)"
   ]
  },
  {
   "cell_type": "code",
   "execution_count": 12,
   "id": "8a296345",
   "metadata": {},
   "outputs": [
    {
     "data": {
      "text/html": [
       "<div>\n",
       "<style scoped>\n",
       "    .dataframe tbody tr th:only-of-type {\n",
       "        vertical-align: middle;\n",
       "    }\n",
       "\n",
       "    .dataframe tbody tr th {\n",
       "        vertical-align: top;\n",
       "    }\n",
       "\n",
       "    .dataframe thead th {\n",
       "        text-align: right;\n",
       "    }\n",
       "</style>\n",
       "<table border=\"1\" class=\"dataframe\">\n",
       "  <thead>\n",
       "    <tr style=\"text-align: right;\">\n",
       "      <th>spending_flag</th>\n",
       "      <th>High spender</th>\n",
       "      <th>Low spender</th>\n",
       "    </tr>\n",
       "    <tr>\n",
       "      <th>region</th>\n",
       "      <th></th>\n",
       "      <th></th>\n",
       "    </tr>\n",
       "  </thead>\n",
       "  <tbody>\n",
       "    <tr>\n",
       "      <th>Midwest</th>\n",
       "      <td>155979</td>\n",
       "      <td>7441606</td>\n",
       "    </tr>\n",
       "    <tr>\n",
       "      <th>Northeast</th>\n",
       "      <td>108226</td>\n",
       "      <td>5614713</td>\n",
       "    </tr>\n",
       "    <tr>\n",
       "      <th>South</th>\n",
       "      <td>209693</td>\n",
       "      <td>10582607</td>\n",
       "    </tr>\n",
       "    <tr>\n",
       "      <th>West</th>\n",
       "      <td>160354</td>\n",
       "      <td>8132863</td>\n",
       "    </tr>\n",
       "  </tbody>\n",
       "</table>\n",
       "</div>"
      ],
      "text/plain": [
       "spending_flag  High spender  Low spender\n",
       "region                                  \n",
       "Midwest              155979      7441606\n",
       "Northeast            108226      5614713\n",
       "South                209693     10582607\n",
       "West                 160354      8132863"
      ]
     },
     "execution_count": 12,
     "metadata": {},
     "output_type": "execute_result"
    }
   ],
   "source": [
    "crosstab"
   ]
  },
  {
   "cell_type": "markdown",
   "id": "4dbfd532",
   "metadata": {},
   "source": [
    "The South has the largest amount of both \"high spenders\" and \"low spenders\".\n",
    "The South sticks out as the region with the most customers but other than that the regions follow a similar spending pattern."
   ]
  },
  {
   "cell_type": "code",
   "execution_count": 16,
   "id": "82772e4f",
   "metadata": {},
   "outputs": [
    {
     "data": {
      "image/png": "[encoded data removed]",
      "text/plain": [
       "<Figure size 640x480 with 1 Axes>"
      ]
     },
     "metadata": {},
     "output_type": "display_data"
    }
   ],
   "source": [
    "bar_spend_region = crosstab.plot(kind = 'bar', rot = 0, color = ['red','blue'])"
   ]
  },
  {
   "cell_type": "markdown",
   "id": "430fdaea",
   "metadata": {},
   "source": [
    "# Create Activity Flag"
   ]
  },
  {
   "cell_type": "code",
   "execution_count": 6,
   "id": "d1743d5a",
   "metadata": {},
   "outputs": [],
   "source": [
    "# Create a flag for 'low-activity' customers\n",
    "ic_data.loc[ic_data['max_order'] < 5, 'activity_flag'] = 'Low-activity'"
   ]
  },
  {
   "cell_type": "code",
   "execution_count": 7,
   "id": "505e1e43",
   "metadata": {},
   "outputs": [],
   "source": [
    "# Create a flag for 'high-activity' customers\n",
    "ic_data.loc[ic_data['max_order'] >= 5, 'activity_flag'] = 'High-activity'"
   ]
  },
  {
   "cell_type": "code",
   "execution_count": 8,
   "id": "7828bb5e",
   "metadata": {},
   "outputs": [
    {
     "data": {
      "text/plain": [
       "High-activity    30965686\n",
       "Low-activity      1440355\n",
       "Name: activity_flag, dtype: int64"
      ]
     },
     "execution_count": 8,
     "metadata": {},
     "output_type": "execute_result"
    }
   ],
   "source": [
    "# Verify that column is updated\n",
    "ic_data['activity_flag'].value_counts(dropna = False)"
   ]
  },
  {
   "cell_type": "code",
   "execution_count": 9,
   "id": "0a839b42",
   "metadata": {},
   "outputs": [],
   "source": [
    "# Create a new dataframe to store the high-activity customers\n",
    "df_high_activity = ic_data.loc[ic_data['activity_flag'] == 'High-activity']"
   ]
  },
  {
   "cell_type": "markdown",
   "id": "29e64350",
   "metadata": {},
   "source": [
    "# Export"
   ]
  },
  {
   "cell_type": "code",
   "execution_count": 10,
   "id": "fedb4348",
   "metadata": {},
   "outputs": [],
   "source": [
    "# Export high activity dataframe\n",
    "df_high_activity.to_pickle(os.path.join(path, '02. Data', 'Prepared Data', 'high_activity_customers.pkl'))"
   ]
  }
 ],
 "metadata": {
  "kernelspec": {
   "display_name": "Python 3 (ipykernel)",
   "language": "python",
   "name": "python3"
  },
  "language_info": {
   "codemirror_mode": {
    "name": "ipython",
    "version": 3
   },
   "file_extension": ".py",
   "mimetype": "text/x-python",
   "name": "python",
   "nbconvert_exporter": "python",
   "pygments_lexer": "ipython3",
   "version": "3.9.13"
  }
 },
 "nbformat": 4,
 "nbformat_minor": 5
}
