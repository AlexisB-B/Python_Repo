{
 "cells": [
  {
   "cell_type": "markdown",
   "id": "a181e7a7",
   "metadata": {},
   "source": [
    "# Task 4.8"
   ]
  },
  {
   "cell_type": "markdown",
   "id": "fca09296",
   "metadata": {},
   "source": [
    "## Script Points"
   ]
  },
  {
   "cell_type": "markdown",
   "id": "45c6a45f",
   "metadata": {},
   "source": [
    "1. Import Data & Libraries\n",
    "2. Aggregating Data\n",
    "3. Create Flags\n",
    "4. Exporting"
   ]
  },
  {
   "cell_type": "markdown",
   "id": "e25b0ec4",
   "metadata": {},
   "source": [
    "# Import libraries & data"
   ]
  },
  {
   "cell_type": "code",
   "execution_count": 19,
   "id": "3ea11429",
   "metadata": {},
   "outputs": [],
   "source": [
    "# Import Pandas, Numpy, and os\n",
    "\n",
    "import pandas as pd\n",
    "import numpy as np\n",
    "import os"
   ]
  },
  {
   "cell_type": "code",
   "execution_count": 20,
   "id": "746ddca9",
   "metadata": {},
   "outputs": [],
   "source": [
    "# Create Path\n",
    "path = r'C:\\Users\\alexi\\OneDrive\\02-2023 Instacart Basket Analysis'"
   ]
  },
  {
   "cell_type": "code",
   "execution_count": 21,
   "id": "caf26632",
   "metadata": {},
   "outputs": [],
   "source": [
    "# Import Data\n",
    "ords_prods_merge = pd.read_pickle(os.path.join(path, '02. Data','Prepared Data', 'ords_prods_merge4_8.pkl'))"
   ]
  },
  {
   "cell_type": "markdown",
   "id": "9b468fa0",
   "metadata": {},
   "source": [
    "# Aggregate Means"
   ]
  },
  {
   "cell_type": "code",
   "execution_count": 22,
   "id": "ad85dcb8",
   "metadata": {},
   "outputs": [
    {
     "data": {
      "text/plain": [
       "department_id\n",
       "1     15.457838\n",
       "2     17.277920\n",
       "3     17.170395\n",
       "4     17.811403\n",
       "5     15.213779\n",
       "6     16.439806\n",
       "7     17.225802\n",
       "8     15.340650\n",
       "9     15.895474\n",
       "10    20.197148\n",
       "11    16.171095\n",
       "12    15.887671\n",
       "13    16.583536\n",
       "14    16.771241\n",
       "15    16.165037\n",
       "16    17.665606\n",
       "17    15.694469\n",
       "18    19.310397\n",
       "19    17.177343\n",
       "20    16.473447\n",
       "21    22.902379\n",
       "Name: order_number, dtype: float64"
      ]
     },
     "execution_count": 22,
     "metadata": {},
     "output_type": "execute_result"
    }
   ],
   "source": [
    "# Aggregate mean of order number column grouped by deptartment id\n",
    "\n",
    "ords_prods_merge.groupby('department_id')['order_number'].mean()"
   ]
  },
  {
   "cell_type": "markdown",
   "id": "d7a0722e",
   "metadata": {},
   "source": [
    "In the aggegration of the whole data frame all department id's are represented. There is also a larger range of means."
   ]
  },
  {
   "cell_type": "markdown",
   "id": "cf3782ca",
   "metadata": {},
   "source": [
    "# Create Loyalty Flag"
   ]
  },
  {
   "cell_type": "code",
   "execution_count": 23,
   "id": "9682f4f6",
   "metadata": {},
   "outputs": [],
   "source": [
    "ords_prods_merge.loc[ords_prods_merge['max_order'] > 40, 'loyalty_flag'] = 'Loyal customer'\n",
    "ords_prods_merge.loc[(ords_prods_merge['max_order'] <= 40) & (ords_prods_merge['max_order'] > 10), 'loyalty_flag'] = 'Regular customer'\n",
    "ords_prods_merge.loc[ords_prods_merge['max_order'] <= 10, 'loyalty_flag'] = 'New customer'"
   ]
  },
  {
   "cell_type": "code",
   "execution_count": 24,
   "id": "50c00ec9",
   "metadata": {},
   "outputs": [
    {
     "data": {
      "text/plain": [
       "Regular customer    15877395\n",
       "Loyal customer      10284396\n",
       "New customer         6244250\n",
       "Name: loyalty_flag, dtype: int64"
      ]
     },
     "execution_count": 24,
     "metadata": {},
     "output_type": "execute_result"
    }
   ],
   "source": [
    "# check frequency\n",
    "\n",
    "ords_prods_merge['loyalty_flag'].value_counts (dropna = False)"
   ]
  },
  {
   "cell_type": "markdown",
   "id": "a2cc5194",
   "metadata": {},
   "source": [
    "# Check customer stats"
   ]
  },
  {
   "cell_type": "code",
   "execution_count": 25,
   "id": "6597d9b8",
   "metadata": {},
   "outputs": [
    {
     "data": {
      "text/html": [
       "<div>\n",
       "<style scoped>\n",
       "    .dataframe tbody tr th:only-of-type {\n",
       "        vertical-align: middle;\n",
       "    }\n",
       "\n",
       "    .dataframe tbody tr th {\n",
       "        vertical-align: top;\n",
       "    }\n",
       "\n",
       "    .dataframe thead tr th {\n",
       "        text-align: left;\n",
       "    }\n",
       "\n",
       "    .dataframe thead tr:last-of-type th {\n",
       "        text-align: right;\n",
       "    }\n",
       "</style>\n",
       "<table border=\"1\" class=\"dataframe\">\n",
       "  <thead>\n",
       "    <tr>\n",
       "      <th></th>\n",
       "      <th colspan=\"3\" halign=\"left\">prices</th>\n",
       "    </tr>\n",
       "    <tr>\n",
       "      <th></th>\n",
       "      <th>mean</th>\n",
       "      <th>min</th>\n",
       "      <th>max</th>\n",
       "    </tr>\n",
       "    <tr>\n",
       "      <th>loyalty_flag</th>\n",
       "      <th></th>\n",
       "      <th></th>\n",
       "      <th></th>\n",
       "    </tr>\n",
       "  </thead>\n",
       "  <tbody>\n",
       "    <tr>\n",
       "      <th>Loyal customer</th>\n",
       "      <td>10.386229</td>\n",
       "      <td>1.0</td>\n",
       "      <td>99999.0</td>\n",
       "    </tr>\n",
       "    <tr>\n",
       "      <th>New customer</th>\n",
       "      <td>13.294406</td>\n",
       "      <td>1.0</td>\n",
       "      <td>99999.0</td>\n",
       "    </tr>\n",
       "    <tr>\n",
       "      <th>Regular customer</th>\n",
       "      <td>12.495501</td>\n",
       "      <td>1.0</td>\n",
       "      <td>99999.0</td>\n",
       "    </tr>\n",
       "  </tbody>\n",
       "</table>\n",
       "</div>"
      ],
      "text/plain": [
       "                     prices              \n",
       "                       mean  min      max\n",
       "loyalty_flag                             \n",
       "Loyal customer    10.386229  1.0  99999.0\n",
       "New customer      13.294406  1.0  99999.0\n",
       "Regular customer  12.495501  1.0  99999.0"
      ]
     },
     "execution_count": 25,
     "metadata": {},
     "output_type": "execute_result"
    }
   ],
   "source": [
    "ords_prods_merge.groupby('loyalty_flag').agg({'prices': ['mean', 'min', 'max']})"
   ]
  },
  {
   "cell_type": "markdown",
   "id": "b1845974",
   "metadata": {},
   "source": [
    "# Create Spending Flag"
   ]
  },
  {
   "cell_type": "code",
   "execution_count": 26,
   "id": "224170e6",
   "metadata": {},
   "outputs": [],
   "source": [
    "# aggregate & transform\n",
    "\n",
    "ords_prods_merge['mean_price'] = ords_prods_merge.groupby(['user_id'])['prices'].transform(np.mean)"
   ]
  },
  {
   "cell_type": "code",
   "execution_count": 27,
   "id": "1d32b6b7",
   "metadata": {},
   "outputs": [],
   "source": [
    "# flag\n",
    "\n",
    "ords_prods_merge.loc[ords_prods_merge['mean_price'] < 10, 'spending_flag'] = 'Low spender'\n",
    "ords_prods_merge.loc[(ords_prods_merge['mean_price'] >= 10), 'spending_flag'] = 'High spender'"
   ]
  },
  {
   "cell_type": "code",
   "execution_count": 28,
   "id": "38feff54",
   "metadata": {},
   "outputs": [
    {
     "data": {
      "text/plain": [
       "Low spender     31771789\n",
       "High spender      634252\n",
       "Name: spending_flag, dtype: int64"
      ]
     },
     "execution_count": 28,
     "metadata": {},
     "output_type": "execute_result"
    }
   ],
   "source": [
    "# check frequency\n",
    "\n",
    "ords_prods_merge['spending_flag'].value_counts (dropna = False)"
   ]
  },
  {
   "cell_type": "markdown",
   "id": "831c65d2",
   "metadata": {},
   "source": [
    "# Create Frequency Flag"
   ]
  },
  {
   "cell_type": "code",
   "execution_count": 29,
   "id": "301c3b50",
   "metadata": {},
   "outputs": [],
   "source": [
    "# aggregate & transform\n",
    "\n",
    "ords_prods_merge['median_days_since_prior_order'] = ords_prods_merge.groupby(['user_id'])['days_since_prior_order'].transform(np.median)"
   ]
  },
  {
   "cell_type": "code",
   "execution_count": 30,
   "id": "5bddaf22",
   "metadata": {},
   "outputs": [],
   "source": [
    "# flag\n",
    "\n",
    "ords_prods_merge.loc[ords_prods_merge['median_days_since_prior_order'] > 20, 'frequency_flag'] = 'Non-frequent customer'\n",
    "ords_prods_merge.loc[(ords_prods_merge['median_days_since_prior_order'] > 10) & (ords_prods_merge['median_days_since_prior_order'] <= 20), 'frequency_flag'] = 'Regular customer'\n",
    "ords_prods_merge.loc[ords_prods_merge['median_days_since_prior_order'] <= 10, 'frequency_flag'] = 'Frequent customer'"
   ]
  },
  {
   "cell_type": "code",
   "execution_count": 31,
   "id": "eadd242d",
   "metadata": {},
   "outputs": [
    {
     "data": {
      "text/plain": [
       "Frequent customer        21560324\n",
       "Regular customer          7209005\n",
       "Non-frequent customer     3636707\n",
       "NaN                             5\n",
       "Name: frequency_flag, dtype: int64"
      ]
     },
     "execution_count": 31,
     "metadata": {},
     "output_type": "execute_result"
    }
   ],
   "source": [
    "# check frequency\n",
    "\n",
    "ords_prods_merge['frequency_flag'].value_counts (dropna = False)"
   ]
  },
  {
   "cell_type": "markdown",
   "id": "991002a5",
   "metadata": {},
   "source": [
    "# Export"
   ]
  },
  {
   "cell_type": "code",
   "execution_count": 32,
   "id": "c2c605b5",
   "metadata": {},
   "outputs": [],
   "source": [
    "ords_prods_merge.to_pickle(os.path.join(path, '02. Data','Prepared Data', 'ords_prods_merge.pkl'))"
   ]
  }
 ],
 "metadata": {
  "kernelspec": {
   "display_name": "Python 3 (ipykernel)",
   "language": "python",
   "name": "python3"
  },
  "language_info": {
   "codemirror_mode": {
    "name": "ipython",
    "version": 3
   },
   "file_extension": ".py",
   "mimetype": "text/x-python",
   "name": "python",
   "nbconvert_exporter": "python",
   "pygments_lexer": "ipython3",
   "version": "3.9.13"
  }
 },
 "nbformat": 4,
 "nbformat_minor": 5
}
